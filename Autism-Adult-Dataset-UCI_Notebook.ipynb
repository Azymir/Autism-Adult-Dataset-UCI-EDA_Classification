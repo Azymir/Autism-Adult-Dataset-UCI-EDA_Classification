{
 "cells": [
  {
   "cell_type": "markdown",
   "id": "7026ebba",
   "metadata": {},
   "source": [
    "Title: Autism Screening Adult Data Set\n",
    " -----------------------------------------\n",
    "### Informations :\n",
    "\n",
    "    Number of Instances:704\n",
    "    \n",
    "    Attribute Characteristics: Integer\n",
    "    \n",
    "    Number of Attributes:21\n",
    "\n",
    "    Date Donated 2017-12-24\n",
    "\n",
    "    Associated Tasks: Classification\n",
    "\n",
    "    Missing Values? Yes\n",
    "\n",
    "    Number of Web Hits: 84051\n",
    "### Dataset Content :\n",
    "         Attribute                        Domain\n",
    "\n",
    "       1. A1_Score                       {0,1}\n",
    "       2. A2_Score                       {0,1}\n",
    "       3. A3_Score                       {0,1}\n",
    "       4. A4_Score                       {0,1}\n",
    "       5. A5_Score                       {0,1}\n",
    "       6. A6_Score                       {0,1}\n",
    "       7. A7_Score                       {0,1}\n",
    "       8. A8_Score                       {0,1}\n",
    "       9. A9_Score                       {0,1}\n",
    "      10. A10_Score                      {0,1}\n",
    "      11. age                            numeric\n",
    "      12. gender                         {f,m}\n",
    "      13. ethnicity                      {White-European,Latino,Others,Black,Asian,'Middle Eastern ',Pasifika,'South asian',Hispanic,Turkish,others}\n",
    "      14.jundice                         {no,yes}\n",
    "      15.austim                          {no,yes}\n",
    "      16.contry_of_res                   {'United States',Brazil,Spain,Egypt,'New Zealand',Bahamas,Burundi,Austria,Argentina,Jordan,Ireland,'United Arab Emirates',Afghanistan,Lebanon,'United Kingdom','South Africa',Italy,Pakistan,Bangladesh,Chile,France,China,Australia,Canada,'Saudi Arabia',Netherlands,Romania,Sweden,Tonga,Oman,India,Philippines,'Sri Lanka','Sierra Leone',Ethiopia,'Viet Nam',Iran,'Costa Rica',Germany,Mexico,Russia,Armenia,Iceland,Nicaragua,'Hong Kong',Japan,Ukraine,Kazakhstan,AmericanSamoa,Uruguay,Serbia,Portugal,Malaysia,Ecuador,Niger,Belgium,Bolivia,Aruba,Finland,Turkey,Nepal,Indonesia,Angola,Azerbaijan,Iraq,'Czech Republic',Cyprus}\n",
    "      17.used_app_before                 {no,yes}\n",
    "      18.result                          numeric\n",
    "      19.age_desc                        {'18 and more'}\n",
    "      20.relation                        {Self,Parent,'Health care professional',Relative,Others}\n",
    "      21.Class/ASD                       {NO,YES}"
   ]
  },
  {
   "cell_type": "markdown",
   "id": "d5fb2070",
   "metadata": {},
   "source": [
    "### Dataset Description\n",
    "\n",
    "    Feature\t: Description\n",
    "    index : The participant’s ID number\n",
    "    AX_Score: Score based on the Autism Spectrum Quotient (AQ) 10 item screening tool AQ-10\n",
    "    age : Age in years\n",
    "    gender : Male or Female\n",
    "    ethnicity: Ethnicities in text form\n",
    "    jaundice : Whether or not the participant was born with jaundice?\n",
    "    austsm : Whether or not anyone in tbe immediate family has been diagnosed with autism?\n",
    "    country_of_res : Countries in text format\n",
    "    used_app_before : Whether the participant has used a screening app\n",
    "    result\tScore from the AQ-10 screening tool\n",
    "    age_desc : Age as categorical\n",
    "    relation : Relation of person who completed the test\n",
    "    Class/ASD :\tParticipant classification"
   ]
  },
  {
   "cell_type": "markdown",
   "id": "3d3cdedb",
   "metadata": {},
   "source": [
    "## Importing Libraries"
   ]
  },
  {
   "cell_type": "code",
   "execution_count": 258,
   "id": "0a2fcafc",
   "metadata": {},
   "outputs": [],
   "source": [
    "# For dataframe and visualization\n",
    "import numpy as np\n",
    "import pandas as pd\n",
    "import matplotlib.pyplot as plt\n",
    "import seaborn as sns\n",
    "import numpy as np\n",
    "from scipy.io import arff\n",
    "\n",
    "# Processing data\n",
    "from sklearn import preprocessing\n",
    "from sklearn.preprocessing import StandardScaler\n",
    "\n",
    "# Prepare Data for classification\n",
    "from sklearn.model_selection import train_test_split\n",
    "from sklearn.metrics import classification_report, accuracy_score\n",
    "\n",
    "\n",
    "# Classification\n",
    "from sklearn.linear_model import LinearRegression\n",
    "from sklearn.ensemble import RandomForestClassifier\n",
    "from sklearn.svm import SVC\n",
    "from sklearn import metrics\n",
    "from sklearn.metrics import mean_absolute_error\n",
    "\n",
    "# Comparing Classification\n",
    "from sklearn.metrics import RocCurveDisplay\n"
   ]
  },
  {
   "cell_type": "markdown",
   "id": "1c59307d",
   "metadata": {},
   "source": [
    "## Reading Data"
   ]
  },
  {
   "cell_type": "code",
   "execution_count": 259,
   "id": "a210013a",
   "metadata": {},
   "outputs": [],
   "source": [
    "# Load dataset\n",
    "dataset = pd.read_table('Autism-Adult-Data.arff', sep = ',')"
   ]
  },
  {
   "cell_type": "code",
   "execution_count": 260,
   "id": "6e6f512c",
   "metadata": {},
   "outputs": [],
   "source": [
    "df = dataset.copy()"
   ]
  },
  {
   "cell_type": "code",
   "execution_count": 261,
   "id": "eae36abc",
   "metadata": {},
   "outputs": [],
   "source": [
    "# Rename columns\n",
    "df.columns = ['A1_Score','A2_Score','A3_Score','A4_Score','A5_Score','A6_Score','A7_Score','A8_Score','A9_Score','A10_Score','age','gender','ethnicity','jundice','austim','contry_of_res','used_app_before' ,'result' 'numeric','age_desc','relation','Class/ASD']"
   ]
  },
  {
   "cell_type": "code",
   "execution_count": 262,
   "id": "f7f9d8d4",
   "metadata": {
    "scrolled": false
   },
   "outputs": [
    {
     "data": {
      "text/html": [
       "<div>\n",
       "<style scoped>\n",
       "    .dataframe tbody tr th:only-of-type {\n",
       "        vertical-align: middle;\n",
       "    }\n",
       "\n",
       "    .dataframe tbody tr th {\n",
       "        vertical-align: top;\n",
       "    }\n",
       "\n",
       "    .dataframe thead th {\n",
       "        text-align: right;\n",
       "    }\n",
       "</style>\n",
       "<table border=\"1\" class=\"dataframe\">\n",
       "  <thead>\n",
       "    <tr style=\"text-align: right;\">\n",
       "      <th></th>\n",
       "      <th>A1_Score</th>\n",
       "      <th>A2_Score</th>\n",
       "      <th>A3_Score</th>\n",
       "      <th>A4_Score</th>\n",
       "      <th>A5_Score</th>\n",
       "      <th>A6_Score</th>\n",
       "      <th>A7_Score</th>\n",
       "      <th>A8_Score</th>\n",
       "      <th>A9_Score</th>\n",
       "      <th>A10_Score</th>\n",
       "      <th>...</th>\n",
       "      <th>gender</th>\n",
       "      <th>ethnicity</th>\n",
       "      <th>jundice</th>\n",
       "      <th>austim</th>\n",
       "      <th>contry_of_res</th>\n",
       "      <th>used_app_before</th>\n",
       "      <th>resultnumeric</th>\n",
       "      <th>age_desc</th>\n",
       "      <th>relation</th>\n",
       "      <th>Class/ASD</th>\n",
       "    </tr>\n",
       "  </thead>\n",
       "  <tbody>\n",
       "    <tr>\n",
       "      <th>0</th>\n",
       "      <td>1</td>\n",
       "      <td>1</td>\n",
       "      <td>0</td>\n",
       "      <td>1</td>\n",
       "      <td>0</td>\n",
       "      <td>0</td>\n",
       "      <td>0</td>\n",
       "      <td>1</td>\n",
       "      <td>0</td>\n",
       "      <td>1</td>\n",
       "      <td>...</td>\n",
       "      <td>m</td>\n",
       "      <td>Latino</td>\n",
       "      <td>no</td>\n",
       "      <td>yes</td>\n",
       "      <td>Brazil</td>\n",
       "      <td>no</td>\n",
       "      <td>5</td>\n",
       "      <td>'18 and more'</td>\n",
       "      <td>Self</td>\n",
       "      <td>NO</td>\n",
       "    </tr>\n",
       "    <tr>\n",
       "      <th>1</th>\n",
       "      <td>1</td>\n",
       "      <td>1</td>\n",
       "      <td>0</td>\n",
       "      <td>1</td>\n",
       "      <td>1</td>\n",
       "      <td>0</td>\n",
       "      <td>1</td>\n",
       "      <td>1</td>\n",
       "      <td>1</td>\n",
       "      <td>1</td>\n",
       "      <td>...</td>\n",
       "      <td>m</td>\n",
       "      <td>Latino</td>\n",
       "      <td>yes</td>\n",
       "      <td>yes</td>\n",
       "      <td>Spain</td>\n",
       "      <td>no</td>\n",
       "      <td>8</td>\n",
       "      <td>'18 and more'</td>\n",
       "      <td>Parent</td>\n",
       "      <td>YES</td>\n",
       "    </tr>\n",
       "    <tr>\n",
       "      <th>2</th>\n",
       "      <td>1</td>\n",
       "      <td>1</td>\n",
       "      <td>0</td>\n",
       "      <td>1</td>\n",
       "      <td>0</td>\n",
       "      <td>0</td>\n",
       "      <td>1</td>\n",
       "      <td>1</td>\n",
       "      <td>0</td>\n",
       "      <td>1</td>\n",
       "      <td>...</td>\n",
       "      <td>f</td>\n",
       "      <td>White-European</td>\n",
       "      <td>no</td>\n",
       "      <td>yes</td>\n",
       "      <td>'United States'</td>\n",
       "      <td>no</td>\n",
       "      <td>6</td>\n",
       "      <td>'18 and more'</td>\n",
       "      <td>Self</td>\n",
       "      <td>NO</td>\n",
       "    </tr>\n",
       "    <tr>\n",
       "      <th>3</th>\n",
       "      <td>1</td>\n",
       "      <td>0</td>\n",
       "      <td>0</td>\n",
       "      <td>0</td>\n",
       "      <td>0</td>\n",
       "      <td>0</td>\n",
       "      <td>0</td>\n",
       "      <td>1</td>\n",
       "      <td>0</td>\n",
       "      <td>0</td>\n",
       "      <td>...</td>\n",
       "      <td>f</td>\n",
       "      <td>?</td>\n",
       "      <td>no</td>\n",
       "      <td>no</td>\n",
       "      <td>Egypt</td>\n",
       "      <td>no</td>\n",
       "      <td>2</td>\n",
       "      <td>'18 and more'</td>\n",
       "      <td>?</td>\n",
       "      <td>NO</td>\n",
       "    </tr>\n",
       "    <tr>\n",
       "      <th>4</th>\n",
       "      <td>1</td>\n",
       "      <td>1</td>\n",
       "      <td>1</td>\n",
       "      <td>1</td>\n",
       "      <td>1</td>\n",
       "      <td>0</td>\n",
       "      <td>1</td>\n",
       "      <td>1</td>\n",
       "      <td>1</td>\n",
       "      <td>1</td>\n",
       "      <td>...</td>\n",
       "      <td>m</td>\n",
       "      <td>Others</td>\n",
       "      <td>yes</td>\n",
       "      <td>no</td>\n",
       "      <td>'United States'</td>\n",
       "      <td>no</td>\n",
       "      <td>9</td>\n",
       "      <td>'18 and more'</td>\n",
       "      <td>Self</td>\n",
       "      <td>YES</td>\n",
       "    </tr>\n",
       "  </tbody>\n",
       "</table>\n",
       "<p>5 rows × 21 columns</p>\n",
       "</div>"
      ],
      "text/plain": [
       "   A1_Score  A2_Score  A3_Score  A4_Score  A5_Score  A6_Score  A7_Score  \\\n",
       "0         1         1         0         1         0         0         0   \n",
       "1         1         1         0         1         1         0         1   \n",
       "2         1         1         0         1         0         0         1   \n",
       "3         1         0         0         0         0         0         0   \n",
       "4         1         1         1         1         1         0         1   \n",
       "\n",
       "   A8_Score  A9_Score  A10_Score  ... gender       ethnicity jundice austim  \\\n",
       "0         1         0          1  ...      m          Latino      no    yes   \n",
       "1         1         1          1  ...      m          Latino     yes    yes   \n",
       "2         1         0          1  ...      f  White-European      no    yes   \n",
       "3         1         0          0  ...      f               ?      no     no   \n",
       "4         1         1          1  ...      m          Others     yes     no   \n",
       "\n",
       "     contry_of_res used_app_before resultnumeric       age_desc relation  \\\n",
       "0           Brazil              no             5  '18 and more'     Self   \n",
       "1            Spain              no             8  '18 and more'   Parent   \n",
       "2  'United States'              no             6  '18 and more'     Self   \n",
       "3            Egypt              no             2  '18 and more'        ?   \n",
       "4  'United States'              no             9  '18 and more'     Self   \n",
       "\n",
       "  Class/ASD  \n",
       "0        NO  \n",
       "1       YES  \n",
       "2        NO  \n",
       "3        NO  \n",
       "4       YES  \n",
       "\n",
       "[5 rows x 21 columns]"
      ]
     },
     "execution_count": 262,
     "metadata": {},
     "output_type": "execute_result"
    }
   ],
   "source": [
    "df.head()"
   ]
  },
  {
   "cell_type": "code",
   "execution_count": 263,
   "id": "681fd60d",
   "metadata": {},
   "outputs": [
    {
     "data": {
      "text/plain": [
       "RangeIndex(start=0, stop=703, step=1)"
      ]
     },
     "execution_count": 263,
     "metadata": {},
     "output_type": "execute_result"
    }
   ],
   "source": [
    "df.index #Describe index"
   ]
  },
  {
   "cell_type": "code",
   "execution_count": 264,
   "id": "b8680a03",
   "metadata": {
    "scrolled": true
   },
   "outputs": [
    {
     "data": {
      "text/plain": [
       "(703, 21)"
      ]
     },
     "execution_count": 264,
     "metadata": {},
     "output_type": "execute_result"
    }
   ],
   "source": [
    "df.shape"
   ]
  },
  {
   "cell_type": "code",
   "execution_count": 265,
   "id": "23ecc3dd",
   "metadata": {},
   "outputs": [
    {
     "data": {
      "text/plain": [
       "A1_Score           703\n",
       "A2_Score           703\n",
       "A3_Score           703\n",
       "A4_Score           703\n",
       "A5_Score           703\n",
       "A6_Score           703\n",
       "A7_Score           703\n",
       "A8_Score           703\n",
       "A9_Score           703\n",
       "A10_Score          703\n",
       "age                703\n",
       "gender             703\n",
       "ethnicity          703\n",
       "jundice            703\n",
       "austim             703\n",
       "contry_of_res      703\n",
       "used_app_before    703\n",
       "resultnumeric      703\n",
       "age_desc           703\n",
       "relation           703\n",
       "Class/ASD          703\n",
       "dtype: int64"
      ]
     },
     "execution_count": 265,
     "metadata": {},
     "output_type": "execute_result"
    }
   ],
   "source": [
    "df.count() #Number of non-NA values"
   ]
  },
  {
   "cell_type": "markdown",
   "id": "81393aa0",
   "metadata": {},
   "source": [
    "## Feature Engineering"
   ]
  },
  {
   "cell_type": "code",
   "execution_count": 266,
   "id": "c434fd77",
   "metadata": {},
   "outputs": [
    {
     "name": "stdout",
     "output_type": "stream",
     "text": [
      "<class 'pandas.core.frame.DataFrame'>\n",
      "RangeIndex: 703 entries, 0 to 702\n",
      "Data columns (total 21 columns):\n",
      " #   Column           Non-Null Count  Dtype \n",
      "---  ------           --------------  ----- \n",
      " 0   A1_Score         703 non-null    int64 \n",
      " 1   A2_Score         703 non-null    int64 \n",
      " 2   A3_Score         703 non-null    int64 \n",
      " 3   A4_Score         703 non-null    int64 \n",
      " 4   A5_Score         703 non-null    int64 \n",
      " 5   A6_Score         703 non-null    int64 \n",
      " 6   A7_Score         703 non-null    int64 \n",
      " 7   A8_Score         703 non-null    int64 \n",
      " 8   A9_Score         703 non-null    int64 \n",
      " 9   A10_Score        703 non-null    int64 \n",
      " 10  age              703 non-null    object\n",
      " 11  gender           703 non-null    object\n",
      " 12  ethnicity        703 non-null    object\n",
      " 13  jundice          703 non-null    object\n",
      " 14  austim           703 non-null    object\n",
      " 15  contry_of_res    703 non-null    object\n",
      " 16  used_app_before  703 non-null    object\n",
      " 17  resultnumeric    703 non-null    int64 \n",
      " 18  age_desc         703 non-null    object\n",
      " 19  relation         703 non-null    object\n",
      " 20  Class/ASD        703 non-null    object\n",
      "dtypes: int64(11), object(10)\n",
      "memory usage: 115.5+ KB\n"
     ]
    }
   ],
   "source": [
    "df.info() #Info on DataFrame"
   ]
  },
  {
   "cell_type": "markdown",
   "id": "c0efa7d8",
   "metadata": {},
   "source": [
    "Some columns are object and some of them has string Yes or No, we need to replace them to boolean (0, 1)"
   ]
  },
  {
   "cell_type": "code",
   "execution_count": 267,
   "id": "9ed26cfd",
   "metadata": {},
   "outputs": [],
   "source": [
    "# Replace columns with number\n",
    "df = df.replace(\"yes\", 1)\n",
    "df = df.replace(\"no\", 0)\n",
    "df = df.replace(\"YES\", 1)\n",
    "df = df.replace(\"NO\", 0)\n",
    "df = df.replace(\"f\", 1)\n",
    "df = df.replace(\"m\", 0)"
   ]
  },
  {
   "cell_type": "code",
   "execution_count": 268,
   "id": "b7633ccd",
   "metadata": {},
   "outputs": [
    {
     "name": "stdout",
     "output_type": "stream",
     "text": [
      "<class 'pandas.core.frame.DataFrame'>\n",
      "RangeIndex: 703 entries, 0 to 702\n",
      "Data columns (total 21 columns):\n",
      " #   Column           Non-Null Count  Dtype \n",
      "---  ------           --------------  ----- \n",
      " 0   A1_Score         703 non-null    int64 \n",
      " 1   A2_Score         703 non-null    int64 \n",
      " 2   A3_Score         703 non-null    int64 \n",
      " 3   A4_Score         703 non-null    int64 \n",
      " 4   A5_Score         703 non-null    int64 \n",
      " 5   A6_Score         703 non-null    int64 \n",
      " 6   A7_Score         703 non-null    int64 \n",
      " 7   A8_Score         703 non-null    int64 \n",
      " 8   A9_Score         703 non-null    int64 \n",
      " 9   A10_Score        703 non-null    int64 \n",
      " 10  age              703 non-null    object\n",
      " 11  gender           703 non-null    int64 \n",
      " 12  ethnicity        703 non-null    object\n",
      " 13  jundice          703 non-null    int64 \n",
      " 14  austim           703 non-null    int64 \n",
      " 15  contry_of_res    703 non-null    object\n",
      " 16  used_app_before  703 non-null    int64 \n",
      " 17  resultnumeric    703 non-null    int64 \n",
      " 18  age_desc         703 non-null    object\n",
      " 19  relation         703 non-null    object\n",
      " 20  Class/ASD        703 non-null    int64 \n",
      "dtypes: int64(16), object(5)\n",
      "memory usage: 115.5+ KB\n"
     ]
    }
   ],
   "source": [
    "df.info() #Info on DataFrame"
   ]
  },
  {
   "cell_type": "code",
   "execution_count": 269,
   "id": "d16de4c8",
   "metadata": {},
   "outputs": [
    {
     "data": {
      "text/plain": [
       "{'A1_Score': 0,\n",
       " 'A2_Score': 0,\n",
       " 'A3_Score': 0,\n",
       " 'A4_Score': 0,\n",
       " 'A5_Score': 0,\n",
       " 'A6_Score': 0,\n",
       " 'A7_Score': 0,\n",
       " 'A8_Score': 0,\n",
       " 'A9_Score': 0,\n",
       " 'A10_Score': 0,\n",
       " 'age': 2,\n",
       " 'gender': 0,\n",
       " 'ethnicity': 95,\n",
       " 'jundice': 0,\n",
       " 'austim': 0,\n",
       " 'contry_of_res': 0,\n",
       " 'used_app_before': 0,\n",
       " 'resultnumeric': 0,\n",
       " 'age_desc': 0,\n",
       " 'relation': 95,\n",
       " 'Class/ASD': 0}"
      ]
     },
     "execution_count": 269,
     "metadata": {},
     "output_type": "execute_result"
    }
   ],
   "source": [
    "# Show missing values\n",
    "MissingValues = {col:df[df[col] == \"?\"].shape[0] for col in df.columns}\n",
    "MissingValues"
   ]
  },
  {
   "cell_type": "markdown",
   "id": "4589ae3d",
   "metadata": {},
   "source": [
    "### Replace '?' values of Age by mean"
   ]
  },
  {
   "cell_type": "code",
   "execution_count": 270,
   "id": "1fcdbad8",
   "metadata": {},
   "outputs": [],
   "source": [
    "# Replace '?' values by NaN\n",
    "for j in range(df.shape[0]):\n",
    "    if(df.iloc[j,10]=='?'):\n",
    "        df.iloc[j,10]=np.NaN"
   ]
  },
  {
   "cell_type": "code",
   "execution_count": 271,
   "id": "4884ee97",
   "metadata": {},
   "outputs": [],
   "source": [
    "# Drop NaN value\n",
    "df.dropna(inplace=True)"
   ]
  },
  {
   "cell_type": "code",
   "execution_count": 272,
   "id": "1fb270ea",
   "metadata": {},
   "outputs": [],
   "source": [
    "# replace dtype object to int\n",
    "df[\"age\"] = df[\"age\"].astype(str).astype(int)"
   ]
  },
  {
   "cell_type": "code",
   "execution_count": 273,
   "id": "6f7f1b50",
   "metadata": {},
   "outputs": [
    {
     "data": {
      "text/plain": [
       "count    701.000000\n",
       "mean      29.703281\n",
       "std       16.518660\n",
       "min       17.000000\n",
       "25%       21.000000\n",
       "50%       27.000000\n",
       "75%       35.000000\n",
       "max      383.000000\n",
       "Name: age, dtype: float64"
      ]
     },
     "execution_count": 273,
     "metadata": {},
     "output_type": "execute_result"
    }
   ],
   "source": [
    "df[\"age\"].describe()"
   ]
  },
  {
   "cell_type": "code",
   "execution_count": 274,
   "id": "84a09f79",
   "metadata": {},
   "outputs": [],
   "source": [
    "# dropping record number 51\n",
    "df.iloc[51,10]=np.NaN"
   ]
  },
  {
   "cell_type": "code",
   "execution_count": 275,
   "id": "d2e06db5",
   "metadata": {},
   "outputs": [
    {
     "data": {
      "text/plain": [
       "6    64.0\n",
       "Name: age, dtype: float64"
      ]
     },
     "execution_count": 275,
     "metadata": {},
     "output_type": "execute_result"
    }
   ],
   "source": [
    "df[df['age'] == df['age'].max()]['age']"
   ]
  },
  {
   "cell_type": "code",
   "execution_count": 276,
   "id": "1bd1baae",
   "metadata": {},
   "outputs": [
    {
     "data": {
      "text/plain": [
       "count    700.000000\n",
       "mean      29.198571\n",
       "std        9.717718\n",
       "min       17.000000\n",
       "25%       21.000000\n",
       "50%       27.000000\n",
       "75%       35.000000\n",
       "max       64.000000\n",
       "Name: age, dtype: float64"
      ]
     },
     "execution_count": 276,
     "metadata": {},
     "output_type": "execute_result"
    }
   ],
   "source": [
    "df[\"age\"].describe()"
   ]
  },
  {
   "cell_type": "code",
   "execution_count": 277,
   "id": "e236325f",
   "metadata": {},
   "outputs": [],
   "source": [
    "df['age'].fillna((df['age'].mean()), inplace=True)"
   ]
  },
  {
   "cell_type": "markdown",
   "id": "974c93cf",
   "metadata": {},
   "source": [
    "### Replace '?' values of ethnicity by 'Others' and 'others' by 'Others'"
   ]
  },
  {
   "cell_type": "code",
   "execution_count": 279,
   "id": "37665de1",
   "metadata": {},
   "outputs": [
    {
     "data": {
      "text/plain": [
       "array(['Latino', 'White-European', '?', 'Others', 'Black', 'Asian',\n",
       "       \"'Middle Eastern '\", 'Pasifika', \"'South Asian'\", 'Hispanic',\n",
       "       'Turkish', 'others'], dtype=object)"
      ]
     },
     "execution_count": 279,
     "metadata": {},
     "output_type": "execute_result"
    }
   ],
   "source": [
    "# There is values that are the same : '?', 'Others' and 'others'\n",
    "df['ethnicity'].unique()"
   ]
  },
  {
   "cell_type": "code",
   "execution_count": 280,
   "id": "ae1632d8",
   "metadata": {},
   "outputs": [],
   "source": [
    "# Replace '?' with 'others'\n",
    "df['ethnicity'] = df['ethnicity'].replace('?', 'others')"
   ]
  },
  {
   "cell_type": "code",
   "execution_count": 281,
   "id": "9015fe9e",
   "metadata": {},
   "outputs": [],
   "source": [
    "# Replace '?' with 'Others'\n",
    "df['ethnicity'] = df['ethnicity'].replace('others', 'Others')"
   ]
  },
  {
   "cell_type": "code",
   "execution_count": 282,
   "id": "763507a2",
   "metadata": {},
   "outputs": [
    {
     "data": {
      "text/plain": [
       "array(['Latino', 'White-European', 'Others', 'Black', 'Asian',\n",
       "       \"'Middle Eastern '\", 'Pasifika', \"'South Asian'\", 'Hispanic',\n",
       "       'Turkish'], dtype=object)"
      ]
     },
     "execution_count": 282,
     "metadata": {},
     "output_type": "execute_result"
    }
   ],
   "source": [
    "# Every missing values are now as 'Others'\n",
    "df['ethnicity'].unique()"
   ]
  },
  {
   "cell_type": "markdown",
   "id": "0da1f5fd",
   "metadata": {},
   "source": [
    "### Replace '?' values of relation by a  mode of relation"
   ]
  },
  {
   "cell_type": "code",
   "execution_count": 283,
   "id": "9290dab3",
   "metadata": {},
   "outputs": [
    {
     "data": {
      "text/plain": [
       "array(['Self', 'Parent', '?', \"'Health care professional'\", 'Relative',\n",
       "       'Others'], dtype=object)"
      ]
     },
     "execution_count": 283,
     "metadata": {},
     "output_type": "execute_result"
    }
   ],
   "source": [
    "# Here we only have '?' as missing values\n",
    "df['relation'].unique()"
   ]
  },
  {
   "cell_type": "code",
   "execution_count": 284,
   "id": "2b6068fe",
   "metadata": {},
   "outputs": [],
   "source": [
    "# Replace the missing value with modal value of the columns\n",
    "df['relation'] = df['relation'].replace('?', df['relation'].mode()[0])"
   ]
  },
  {
   "cell_type": "code",
   "execution_count": 285,
   "id": "cfa4ca10",
   "metadata": {},
   "outputs": [
    {
     "data": {
      "text/plain": [
       "array(['Self', 'Parent', \"'Health care professional'\", 'Relative',\n",
       "       'Others'], dtype=object)"
      ]
     },
     "execution_count": 285,
     "metadata": {},
     "output_type": "execute_result"
    }
   ],
   "source": [
    "# Show results\n",
    "df['relation'].unique()"
   ]
  },
  {
   "cell_type": "code",
   "execution_count": 286,
   "id": "13b60e43",
   "metadata": {},
   "outputs": [
    {
     "data": {
      "text/plain": [
       "A1_Score           0\n",
       "A2_Score           0\n",
       "A3_Score           0\n",
       "A4_Score           0\n",
       "A5_Score           0\n",
       "A6_Score           0\n",
       "A7_Score           0\n",
       "A8_Score           0\n",
       "A9_Score           0\n",
       "A10_Score          0\n",
       "age                0\n",
       "gender             0\n",
       "ethnicity          0\n",
       "jundice            0\n",
       "austim             0\n",
       "contry_of_res      0\n",
       "used_app_before    0\n",
       "resultnumeric      0\n",
       "age_desc           0\n",
       "relation           0\n",
       "Class/ASD          0\n",
       "dtype: int64"
      ]
     },
     "execution_count": 286,
     "metadata": {},
     "output_type": "execute_result"
    }
   ],
   "source": [
    "# No more missing values !\n",
    "df.isnull().sum() #Number of NA values"
   ]
  },
  {
   "cell_type": "code",
   "execution_count": 287,
   "id": "20a18128",
   "metadata": {},
   "outputs": [
    {
     "name": "stdout",
     "output_type": "stream",
     "text": [
      "<class 'pandas.core.frame.DataFrame'>\n",
      "Int64Index: 701 entries, 0 to 702\n",
      "Data columns (total 21 columns):\n",
      " #   Column           Non-Null Count  Dtype  \n",
      "---  ------           --------------  -----  \n",
      " 0   A1_Score         701 non-null    int64  \n",
      " 1   A2_Score         701 non-null    int64  \n",
      " 2   A3_Score         701 non-null    int64  \n",
      " 3   A4_Score         701 non-null    int64  \n",
      " 4   A5_Score         701 non-null    int64  \n",
      " 5   A6_Score         701 non-null    int64  \n",
      " 6   A7_Score         701 non-null    int64  \n",
      " 7   A8_Score         701 non-null    int64  \n",
      " 8   A9_Score         701 non-null    int64  \n",
      " 9   A10_Score        701 non-null    int64  \n",
      " 10  age              701 non-null    float64\n",
      " 11  gender           701 non-null    int64  \n",
      " 12  ethnicity        701 non-null    object \n",
      " 13  jundice          701 non-null    int64  \n",
      " 14  austim           701 non-null    int64  \n",
      " 15  contry_of_res    701 non-null    object \n",
      " 16  used_app_before  701 non-null    int64  \n",
      " 17  resultnumeric    701 non-null    int64  \n",
      " 18  age_desc         701 non-null    object \n",
      " 19  relation         701 non-null    object \n",
      " 20  Class/ASD        701 non-null    int64  \n",
      "dtypes: float64(1), int64(16), object(4)\n",
      "memory usage: 120.5+ KB\n"
     ]
    }
   ],
   "source": [
    "# Now every columns has the right type\n",
    "df.info() #Info on DataFrame"
   ]
  },
  {
   "cell_type": "markdown",
   "id": "22a30522",
   "metadata": {},
   "source": [
    "    # : number of functions in the data framework\n",
    "    Column: Features header in the Dataframe\n",
    "    Non-null Count: Counter of nonzero values for each Dataframe function\n",
    "    Type: type of data stored for each function of the data frame"
   ]
  },
  {
   "cell_type": "markdown",
   "id": "2ddd68f4",
   "metadata": {},
   "source": [
    "## Summary"
   ]
  },
  {
   "cell_type": "code",
   "execution_count": 288,
   "id": "8cd0f6da",
   "metadata": {},
   "outputs": [
    {
     "data": {
      "text/html": [
       "<div>\n",
       "<style scoped>\n",
       "    .dataframe tbody tr th:only-of-type {\n",
       "        vertical-align: middle;\n",
       "    }\n",
       "\n",
       "    .dataframe tbody tr th {\n",
       "        vertical-align: top;\n",
       "    }\n",
       "\n",
       "    .dataframe thead th {\n",
       "        text-align: right;\n",
       "    }\n",
       "</style>\n",
       "<table border=\"1\" class=\"dataframe\">\n",
       "  <thead>\n",
       "    <tr style=\"text-align: right;\">\n",
       "      <th></th>\n",
       "      <th>A1_Score</th>\n",
       "      <th>A2_Score</th>\n",
       "      <th>A3_Score</th>\n",
       "      <th>A4_Score</th>\n",
       "      <th>A5_Score</th>\n",
       "      <th>A6_Score</th>\n",
       "      <th>A7_Score</th>\n",
       "      <th>A8_Score</th>\n",
       "      <th>A9_Score</th>\n",
       "      <th>A10_Score</th>\n",
       "      <th>age</th>\n",
       "      <th>gender</th>\n",
       "      <th>jundice</th>\n",
       "      <th>austim</th>\n",
       "      <th>used_app_before</th>\n",
       "      <th>resultnumeric</th>\n",
       "      <th>Class/ASD</th>\n",
       "    </tr>\n",
       "  </thead>\n",
       "  <tbody>\n",
       "    <tr>\n",
       "      <th>count</th>\n",
       "      <td>701.000000</td>\n",
       "      <td>701.000000</td>\n",
       "      <td>701.000000</td>\n",
       "      <td>701.000000</td>\n",
       "      <td>701.000000</td>\n",
       "      <td>701.000000</td>\n",
       "      <td>701.000000</td>\n",
       "      <td>701.000000</td>\n",
       "      <td>701.000000</td>\n",
       "      <td>701.000000</td>\n",
       "      <td>701.000000</td>\n",
       "      <td>701.000000</td>\n",
       "      <td>701.000000</td>\n",
       "      <td>701.000000</td>\n",
       "      <td>701.000000</td>\n",
       "      <td>701.000000</td>\n",
       "      <td>701.000000</td>\n",
       "    </tr>\n",
       "    <tr>\n",
       "      <th>mean</th>\n",
       "      <td>0.723252</td>\n",
       "      <td>0.452211</td>\n",
       "      <td>0.457917</td>\n",
       "      <td>0.496434</td>\n",
       "      <td>0.499287</td>\n",
       "      <td>0.285307</td>\n",
       "      <td>0.416548</td>\n",
       "      <td>0.650499</td>\n",
       "      <td>0.325250</td>\n",
       "      <td>0.574893</td>\n",
       "      <td>29.198571</td>\n",
       "      <td>0.477889</td>\n",
       "      <td>0.098431</td>\n",
       "      <td>0.129815</td>\n",
       "      <td>0.017118</td>\n",
       "      <td>4.881598</td>\n",
       "      <td>0.269615</td>\n",
       "    </tr>\n",
       "    <tr>\n",
       "      <th>std</th>\n",
       "      <td>0.447710</td>\n",
       "      <td>0.498066</td>\n",
       "      <td>0.498582</td>\n",
       "      <td>0.500344</td>\n",
       "      <td>0.500357</td>\n",
       "      <td>0.451883</td>\n",
       "      <td>0.493339</td>\n",
       "      <td>0.477153</td>\n",
       "      <td>0.468803</td>\n",
       "      <td>0.494712</td>\n",
       "      <td>9.710774</td>\n",
       "      <td>0.499868</td>\n",
       "      <td>0.298109</td>\n",
       "      <td>0.336339</td>\n",
       "      <td>0.129805</td>\n",
       "      <td>2.499478</td>\n",
       "      <td>0.444077</td>\n",
       "    </tr>\n",
       "    <tr>\n",
       "      <th>min</th>\n",
       "      <td>0.000000</td>\n",
       "      <td>0.000000</td>\n",
       "      <td>0.000000</td>\n",
       "      <td>0.000000</td>\n",
       "      <td>0.000000</td>\n",
       "      <td>0.000000</td>\n",
       "      <td>0.000000</td>\n",
       "      <td>0.000000</td>\n",
       "      <td>0.000000</td>\n",
       "      <td>0.000000</td>\n",
       "      <td>17.000000</td>\n",
       "      <td>0.000000</td>\n",
       "      <td>0.000000</td>\n",
       "      <td>0.000000</td>\n",
       "      <td>0.000000</td>\n",
       "      <td>0.000000</td>\n",
       "      <td>0.000000</td>\n",
       "    </tr>\n",
       "    <tr>\n",
       "      <th>25%</th>\n",
       "      <td>0.000000</td>\n",
       "      <td>0.000000</td>\n",
       "      <td>0.000000</td>\n",
       "      <td>0.000000</td>\n",
       "      <td>0.000000</td>\n",
       "      <td>0.000000</td>\n",
       "      <td>0.000000</td>\n",
       "      <td>0.000000</td>\n",
       "      <td>0.000000</td>\n",
       "      <td>0.000000</td>\n",
       "      <td>21.000000</td>\n",
       "      <td>0.000000</td>\n",
       "      <td>0.000000</td>\n",
       "      <td>0.000000</td>\n",
       "      <td>0.000000</td>\n",
       "      <td>3.000000</td>\n",
       "      <td>0.000000</td>\n",
       "    </tr>\n",
       "    <tr>\n",
       "      <th>50%</th>\n",
       "      <td>1.000000</td>\n",
       "      <td>0.000000</td>\n",
       "      <td>0.000000</td>\n",
       "      <td>0.000000</td>\n",
       "      <td>0.000000</td>\n",
       "      <td>0.000000</td>\n",
       "      <td>0.000000</td>\n",
       "      <td>1.000000</td>\n",
       "      <td>0.000000</td>\n",
       "      <td>1.000000</td>\n",
       "      <td>27.000000</td>\n",
       "      <td>0.000000</td>\n",
       "      <td>0.000000</td>\n",
       "      <td>0.000000</td>\n",
       "      <td>0.000000</td>\n",
       "      <td>4.000000</td>\n",
       "      <td>0.000000</td>\n",
       "    </tr>\n",
       "    <tr>\n",
       "      <th>75%</th>\n",
       "      <td>1.000000</td>\n",
       "      <td>1.000000</td>\n",
       "      <td>1.000000</td>\n",
       "      <td>1.000000</td>\n",
       "      <td>1.000000</td>\n",
       "      <td>1.000000</td>\n",
       "      <td>1.000000</td>\n",
       "      <td>1.000000</td>\n",
       "      <td>1.000000</td>\n",
       "      <td>1.000000</td>\n",
       "      <td>35.000000</td>\n",
       "      <td>1.000000</td>\n",
       "      <td>0.000000</td>\n",
       "      <td>0.000000</td>\n",
       "      <td>0.000000</td>\n",
       "      <td>7.000000</td>\n",
       "      <td>1.000000</td>\n",
       "    </tr>\n",
       "    <tr>\n",
       "      <th>max</th>\n",
       "      <td>1.000000</td>\n",
       "      <td>1.000000</td>\n",
       "      <td>1.000000</td>\n",
       "      <td>1.000000</td>\n",
       "      <td>1.000000</td>\n",
       "      <td>1.000000</td>\n",
       "      <td>1.000000</td>\n",
       "      <td>1.000000</td>\n",
       "      <td>1.000000</td>\n",
       "      <td>1.000000</td>\n",
       "      <td>64.000000</td>\n",
       "      <td>1.000000</td>\n",
       "      <td>1.000000</td>\n",
       "      <td>1.000000</td>\n",
       "      <td>1.000000</td>\n",
       "      <td>10.000000</td>\n",
       "      <td>1.000000</td>\n",
       "    </tr>\n",
       "  </tbody>\n",
       "</table>\n",
       "</div>"
      ],
      "text/plain": [
       "         A1_Score    A2_Score    A3_Score    A4_Score    A5_Score    A6_Score  \\\n",
       "count  701.000000  701.000000  701.000000  701.000000  701.000000  701.000000   \n",
       "mean     0.723252    0.452211    0.457917    0.496434    0.499287    0.285307   \n",
       "std      0.447710    0.498066    0.498582    0.500344    0.500357    0.451883   \n",
       "min      0.000000    0.000000    0.000000    0.000000    0.000000    0.000000   \n",
       "25%      0.000000    0.000000    0.000000    0.000000    0.000000    0.000000   \n",
       "50%      1.000000    0.000000    0.000000    0.000000    0.000000    0.000000   \n",
       "75%      1.000000    1.000000    1.000000    1.000000    1.000000    1.000000   \n",
       "max      1.000000    1.000000    1.000000    1.000000    1.000000    1.000000   \n",
       "\n",
       "         A7_Score    A8_Score    A9_Score   A10_Score         age      gender  \\\n",
       "count  701.000000  701.000000  701.000000  701.000000  701.000000  701.000000   \n",
       "mean     0.416548    0.650499    0.325250    0.574893   29.198571    0.477889   \n",
       "std      0.493339    0.477153    0.468803    0.494712    9.710774    0.499868   \n",
       "min      0.000000    0.000000    0.000000    0.000000   17.000000    0.000000   \n",
       "25%      0.000000    0.000000    0.000000    0.000000   21.000000    0.000000   \n",
       "50%      0.000000    1.000000    0.000000    1.000000   27.000000    0.000000   \n",
       "75%      1.000000    1.000000    1.000000    1.000000   35.000000    1.000000   \n",
       "max      1.000000    1.000000    1.000000    1.000000   64.000000    1.000000   \n",
       "\n",
       "          jundice      austim  used_app_before  resultnumeric   Class/ASD  \n",
       "count  701.000000  701.000000       701.000000     701.000000  701.000000  \n",
       "mean     0.098431    0.129815         0.017118       4.881598    0.269615  \n",
       "std      0.298109    0.336339         0.129805       2.499478    0.444077  \n",
       "min      0.000000    0.000000         0.000000       0.000000    0.000000  \n",
       "25%      0.000000    0.000000         0.000000       3.000000    0.000000  \n",
       "50%      0.000000    0.000000         0.000000       4.000000    0.000000  \n",
       "75%      0.000000    0.000000         0.000000       7.000000    1.000000  \n",
       "max      1.000000    1.000000         1.000000      10.000000    1.000000  "
      ]
     },
     "execution_count": 288,
     "metadata": {},
     "output_type": "execute_result"
    }
   ],
   "source": [
    "df.describe() #Statistical summary of DataFrame"
   ]
  },
  {
   "cell_type": "markdown",
   "id": "2d1e40aa",
   "metadata": {},
   "source": [
    "    count: number of examples counted for the selected function\n",
    "    mean: arithmetic mean for the selected function\n",
    "    std: standard deviation for the selected function\n",
    "    min: minimum value presented by the examples for the selected function\n",
    "    25%: first quartile calculated on the examples for the selected function\n",
    "    50%: second quartile calculated on the examples for the selected function\n",
    "    75%: third quartile calculated on examples for selected feature\n",
    "    max: maximum value presented by the examples for the selected function"
   ]
  },
  {
   "cell_type": "code",
   "execution_count": 289,
   "id": "e799c3bf",
   "metadata": {
    "scrolled": true
   },
   "outputs": [
    {
     "data": {
      "text/html": [
       "<div>\n",
       "<style scoped>\n",
       "    .dataframe tbody tr th:only-of-type {\n",
       "        vertical-align: middle;\n",
       "    }\n",
       "\n",
       "    .dataframe tbody tr th {\n",
       "        vertical-align: top;\n",
       "    }\n",
       "\n",
       "    .dataframe thead th {\n",
       "        text-align: right;\n",
       "    }\n",
       "</style>\n",
       "<table border=\"1\" class=\"dataframe\">\n",
       "  <thead>\n",
       "    <tr style=\"text-align: right;\">\n",
       "      <th></th>\n",
       "      <th>A1_Score</th>\n",
       "      <th>A2_Score</th>\n",
       "      <th>A3_Score</th>\n",
       "      <th>A4_Score</th>\n",
       "      <th>A5_Score</th>\n",
       "      <th>A6_Score</th>\n",
       "      <th>A7_Score</th>\n",
       "      <th>A8_Score</th>\n",
       "      <th>A9_Score</th>\n",
       "      <th>A10_Score</th>\n",
       "      <th>...</th>\n",
       "      <th>gender</th>\n",
       "      <th>ethnicity</th>\n",
       "      <th>jundice</th>\n",
       "      <th>austim</th>\n",
       "      <th>contry_of_res</th>\n",
       "      <th>used_app_before</th>\n",
       "      <th>resultnumeric</th>\n",
       "      <th>age_desc</th>\n",
       "      <th>relation</th>\n",
       "      <th>Class/ASD</th>\n",
       "    </tr>\n",
       "  </thead>\n",
       "  <tbody>\n",
       "    <tr>\n",
       "      <th>0</th>\n",
       "      <td>1</td>\n",
       "      <td>1</td>\n",
       "      <td>0</td>\n",
       "      <td>1</td>\n",
       "      <td>0</td>\n",
       "      <td>0</td>\n",
       "      <td>0</td>\n",
       "      <td>1</td>\n",
       "      <td>0</td>\n",
       "      <td>1</td>\n",
       "      <td>...</td>\n",
       "      <td>0</td>\n",
       "      <td>Latino</td>\n",
       "      <td>0</td>\n",
       "      <td>1</td>\n",
       "      <td>Brazil</td>\n",
       "      <td>0</td>\n",
       "      <td>5</td>\n",
       "      <td>'18 and more'</td>\n",
       "      <td>Self</td>\n",
       "      <td>0</td>\n",
       "    </tr>\n",
       "    <tr>\n",
       "      <th>1</th>\n",
       "      <td>1</td>\n",
       "      <td>1</td>\n",
       "      <td>0</td>\n",
       "      <td>1</td>\n",
       "      <td>1</td>\n",
       "      <td>0</td>\n",
       "      <td>1</td>\n",
       "      <td>1</td>\n",
       "      <td>1</td>\n",
       "      <td>1</td>\n",
       "      <td>...</td>\n",
       "      <td>0</td>\n",
       "      <td>Latino</td>\n",
       "      <td>1</td>\n",
       "      <td>1</td>\n",
       "      <td>Spain</td>\n",
       "      <td>0</td>\n",
       "      <td>8</td>\n",
       "      <td>'18 and more'</td>\n",
       "      <td>Parent</td>\n",
       "      <td>1</td>\n",
       "    </tr>\n",
       "    <tr>\n",
       "      <th>2</th>\n",
       "      <td>1</td>\n",
       "      <td>1</td>\n",
       "      <td>0</td>\n",
       "      <td>1</td>\n",
       "      <td>0</td>\n",
       "      <td>0</td>\n",
       "      <td>1</td>\n",
       "      <td>1</td>\n",
       "      <td>0</td>\n",
       "      <td>1</td>\n",
       "      <td>...</td>\n",
       "      <td>1</td>\n",
       "      <td>White-European</td>\n",
       "      <td>0</td>\n",
       "      <td>1</td>\n",
       "      <td>'United States'</td>\n",
       "      <td>0</td>\n",
       "      <td>6</td>\n",
       "      <td>'18 and more'</td>\n",
       "      <td>Self</td>\n",
       "      <td>0</td>\n",
       "    </tr>\n",
       "    <tr>\n",
       "      <th>3</th>\n",
       "      <td>1</td>\n",
       "      <td>0</td>\n",
       "      <td>0</td>\n",
       "      <td>0</td>\n",
       "      <td>0</td>\n",
       "      <td>0</td>\n",
       "      <td>0</td>\n",
       "      <td>1</td>\n",
       "      <td>0</td>\n",
       "      <td>0</td>\n",
       "      <td>...</td>\n",
       "      <td>1</td>\n",
       "      <td>Others</td>\n",
       "      <td>0</td>\n",
       "      <td>0</td>\n",
       "      <td>Egypt</td>\n",
       "      <td>0</td>\n",
       "      <td>2</td>\n",
       "      <td>'18 and more'</td>\n",
       "      <td>Self</td>\n",
       "      <td>0</td>\n",
       "    </tr>\n",
       "    <tr>\n",
       "      <th>4</th>\n",
       "      <td>1</td>\n",
       "      <td>1</td>\n",
       "      <td>1</td>\n",
       "      <td>1</td>\n",
       "      <td>1</td>\n",
       "      <td>0</td>\n",
       "      <td>1</td>\n",
       "      <td>1</td>\n",
       "      <td>1</td>\n",
       "      <td>1</td>\n",
       "      <td>...</td>\n",
       "      <td>0</td>\n",
       "      <td>Others</td>\n",
       "      <td>1</td>\n",
       "      <td>0</td>\n",
       "      <td>'United States'</td>\n",
       "      <td>0</td>\n",
       "      <td>9</td>\n",
       "      <td>'18 and more'</td>\n",
       "      <td>Self</td>\n",
       "      <td>1</td>\n",
       "    </tr>\n",
       "  </tbody>\n",
       "</table>\n",
       "<p>5 rows × 21 columns</p>\n",
       "</div>"
      ],
      "text/plain": [
       "   A1_Score  A2_Score  A3_Score  A4_Score  A5_Score  A6_Score  A7_Score  \\\n",
       "0         1         1         0         1         0         0         0   \n",
       "1         1         1         0         1         1         0         1   \n",
       "2         1         1         0         1         0         0         1   \n",
       "3         1         0         0         0         0         0         0   \n",
       "4         1         1         1         1         1         0         1   \n",
       "\n",
       "   A8_Score  A9_Score  A10_Score  ...  gender       ethnicity jundice  austim  \\\n",
       "0         1         0          1  ...       0          Latino       0       1   \n",
       "1         1         1          1  ...       0          Latino       1       1   \n",
       "2         1         0          1  ...       1  White-European       0       1   \n",
       "3         1         0          0  ...       1          Others       0       0   \n",
       "4         1         1          1  ...       0          Others       1       0   \n",
       "\n",
       "     contry_of_res used_app_before  resultnumeric       age_desc relation  \\\n",
       "0           Brazil               0              5  '18 and more'     Self   \n",
       "1            Spain               0              8  '18 and more'   Parent   \n",
       "2  'United States'               0              6  '18 and more'     Self   \n",
       "3            Egypt               0              2  '18 and more'     Self   \n",
       "4  'United States'               0              9  '18 and more'     Self   \n",
       "\n",
       "  Class/ASD  \n",
       "0         0  \n",
       "1         1  \n",
       "2         0  \n",
       "3         0  \n",
       "4         1  \n",
       "\n",
       "[5 rows x 21 columns]"
      ]
     },
     "execution_count": 289,
     "metadata": {},
     "output_type": "execute_result"
    }
   ],
   "source": [
    "df.head()"
   ]
  },
  {
   "cell_type": "markdown",
   "id": "aebc9b9c",
   "metadata": {},
   "source": [
    "## Visualization"
   ]
  },
  {
   "cell_type": "code",
   "execution_count": 313,
   "id": "f5ef1e7c",
   "metadata": {},
   "outputs": [
    {
     "name": "stdout",
     "output_type": "stream",
     "text": [
      "0    366\n",
      "1    335\n",
      "Name: gender, dtype: int64\n"
     ]
    },
    {
     "data": {
      "image/png": "[encoded data removed]",
      "text/plain": [
       "<Figure size 432x288 with 1 Axes>"
      ]
     },
     "metadata": {},
     "output_type": "display_data"
    }
   ],
   "source": [
    "# Let's see the diversity of autism\n",
    "print(df['gender'].value_counts())\n",
    "men = df.value_counts([\"gender\"])[0]\n",
    "women = df.value_counts([\"gender\"])[1]\n",
    "\n",
    "name = ['men', 'women']\n",
    "data = [men, women]\n",
    "plt.title(\"Patients with autism by gender\", fontsize = 15)\n",
    "\n",
    "plt.pie(data, labels=name, startangle=90, shadow=True)\n",
    "plt.axis('equal')\n",
    "plt.show()"
   ]
  },
  {
   "cell_type": "code",
   "execution_count": 314,
   "id": "71a906a8",
   "metadata": {},
   "outputs": [
    {
     "data": {
      "text/plain": [
       "<AxesSubplot:title={'center':'Patients with autism by age'}, xlabel='age', ylabel='count'>"
      ]
     },
     "execution_count": 314,
     "metadata": {},
     "output_type": "execute_result"
    },
    {
     "data": {
      "image/png": "[encoded data removed]",
      "text/plain": [
       "<Figure size 1440x360 with 1 Axes>"
      ]
     },
     "metadata": {
      "needs_background": "light"
     },
     "output_type": "display_data"
    }
   ],
   "source": [
    "plt.figure(figsize=(20,5))\n",
    "plt.title(\"Patients with autism by age\", fontsize = 15)\n",
    "sns.countplot(x=\"age\",data=df)"
   ]
  },
  {
   "cell_type": "code",
   "execution_count": 293,
   "id": "5a676179",
   "metadata": {},
   "outputs": [
    {
     "name": "stdout",
     "output_type": "stream",
     "text": [
      "0    610\n",
      "1     91\n",
      "Name: austim, dtype: int64\n"
     ]
    },
    {
     "data": {
      "image/png": "[encoded data removed]",
      "text/plain": [
       "<Figure size 432x288 with 1 Axes>"
      ]
     },
     "metadata": {
      "needs_background": "light"
     },
     "output_type": "display_data"
    }
   ],
   "source": [
    "# Let's see if Patients has family member diagnosed with autism\n",
    "print(df['austim'].value_counts())\n",
    "sns.countplot(x=\"austim\", data=df)\n",
    "plt.title(\"Patients with(1) and not(0) family member diagnosed with autism\", fontsize = 15)\n",
    "plt.show()"
   ]
  },
  {
   "cell_type": "code",
   "execution_count": 294,
   "id": "bdcc769b",
   "metadata": {},
   "outputs": [
    {
     "data": {
      "text/plain": [
       "<AxesSubplot:title={'center':'Patients with autism by countries'}, xlabel='contry_of_res', ylabel='count'>"
      ]
     },
     "execution_count": 294,
     "metadata": {},
     "output_type": "execute_result"
    },
    {
     "data": {
      "image/png": "[encoded data removed]",
      "text/plain": [
       "<Figure size 1152x720 with 1 Axes>"
      ]
     },
     "metadata": {
      "needs_background": "light"
     },
     "output_type": "display_data"
    }
   ],
   "source": [
    "# The top 10 countries with autism\n",
    "plt.figure(figsize = (16, 10))\n",
    "plt.title(\"Patients with autism by countries\", fontsize = 15)\n",
    "plt.xlabel('contries')\n",
    "plt.ylabel('number of austim')\n",
    "order=df[\"contry_of_res\"].value_counts().nlargest(10).index\n",
    "# plt.bar(df.value_counts([\"contry_of_res\"])[1],df['austim'])\n",
    "sns.countplot(x=\"contry_of_res\", data=df, order=order)"
   ]
  },
  {
   "cell_type": "code",
   "execution_count": 291,
   "id": "b8c8e31b",
   "metadata": {},
   "outputs": [
    {
     "name": "stdout",
     "output_type": "stream",
     "text": [
      "count    701.000000\n",
      "mean       0.269615\n",
      "std        0.444077\n",
      "min        0.000000\n",
      "25%        0.000000\n",
      "50%        0.000000\n",
      "75%        1.000000\n",
      "max        1.000000\n",
      "Name: Class/ASD, dtype: float64\n"
     ]
    },
    {
     "data": {
      "image/png": "[encoded data removed]",
      "text/plain": [
       "<Figure size 432x288 with 1 Axes>"
      ]
     },
     "metadata": {
      "needs_background": "light"
     },
     "output_type": "display_data"
    }
   ],
   "source": [
    "plt.title(\"Patients classified as ASD\", fontsize = 15)\n",
    "sns.countplot(x=\"Class/ASD\",data=df)\n",
    "print(df[\"Class/ASD\"].describe())"
   ]
  },
  {
   "cell_type": "code",
   "execution_count": 317,
   "id": "9feaceb1",
   "metadata": {},
   "outputs": [
    {
     "data": {
      "text/plain": [
       "<AxesSubplot:title={'center':'Patients with autism by age'}, xlabel='age', ylabel='count'>"
      ]
     },
     "execution_count": 317,
     "metadata": {},
     "output_type": "execute_result"
    },
    {
     "data": {
      "image/png": "[encoded data removed]",
      "text/plain": [
       "<Figure size 1440x360 with 1 Axes>"
      ]
     },
     "metadata": {
      "needs_background": "light"
     },
     "output_type": "display_data"
    }
   ],
   "source": [
    "plt.figure(figsize=(20,5))\n",
    "plt.title(\"Patients with autism by age\", fontsize = 15)\n",
    "sns.countplot(x=\"age\",hue=\"Class/ASD\",data=df)"
   ]
  },
  {
   "cell_type": "code",
   "execution_count": 316,
   "id": "989c337b",
   "metadata": {},
   "outputs": [
    {
     "data": {
      "text/plain": [
       "<AxesSubplot:title={'center':'patients with autism by gender'}, xlabel='gender', ylabel='count'>"
      ]
     },
     "execution_count": 316,
     "metadata": {},
     "output_type": "execute_result"
    },
    {
     "data": {
      "image/png": "[encoded data removed]",
      "text/plain": [
       "<Figure size 432x288 with 1 Axes>"
      ]
     },
     "metadata": {
      "needs_background": "light"
     },
     "output_type": "display_data"
    }
   ],
   "source": [
    "plt.title(\"Patients with autism by gender\", fontsize = 15)\n",
    "sns.countplot(x=\"gender\",hue=\"Class/ASD\",data=df)"
   ]
  },
  {
   "cell_type": "code",
   "execution_count": 295,
   "id": "ef94d12d",
   "metadata": {},
   "outputs": [
    {
     "data": {
      "image/png": "[encoded data removed]",
      "text/plain": [
       "<Figure size 1080x720 with 2 Axes>"
      ]
     },
     "metadata": {
      "needs_background": "light"
     },
     "output_type": "display_data"
    }
   ],
   "source": [
    "# Correlation between dataset columns\n",
    "plt.figure(figsize = (15, 10))\n",
    "plt.title(\"Heatmap Correlations\", fontsize = 20)\n",
    "sns.heatmap(df.corr(), annot = True)\n",
    "plt.show()"
   ]
  },
  {
   "cell_type": "markdown",
   "id": "1e18a12f",
   "metadata": {},
   "source": [
    "## Pré-processing"
   ]
  },
  {
   "cell_type": "code",
   "execution_count": 296,
   "id": "454518ee",
   "metadata": {},
   "outputs": [],
   "source": [
    "# Dropp Unwanted columns\n",
    "df.drop(['age_desc'], axis = 1, inplace = True)"
   ]
  },
  {
   "cell_type": "markdown",
   "id": "1c46b700",
   "metadata": {},
   "source": [
    "Split the data "
   ]
  },
  {
   "cell_type": "code",
   "execution_count": 297,
   "id": "9f55d04c",
   "metadata": {},
   "outputs": [],
   "source": [
    "X = df.drop(\"Class/ASD\", axis = 1)    # select all other feature except \"Class/ASD\" for training\n",
    "y = df['Class/ASD']"
   ]
  },
  {
   "cell_type": "markdown",
   "id": "283796f3",
   "metadata": {},
   "source": [
    "Due to the presence of data expressed with different location, normalization must be performed by using the get_dummies() method."
   ]
  },
  {
   "cell_type": "code",
   "execution_count": 298,
   "id": "53850ecf",
   "metadata": {},
   "outputs": [],
   "source": [
    "X = pd.get_dummies(X)"
   ]
  },
  {
   "cell_type": "markdown",
   "id": "aaa637eb",
   "metadata": {},
   "source": [
    "The data need to be split in trainning set and testing set"
   ]
  },
  {
   "cell_type": "code",
   "execution_count": 299,
   "id": "e2924144",
   "metadata": {},
   "outputs": [],
   "source": [
    "X_train, X_test, y_train, y_test = train_test_split(X, y, test_size = 0.8)"
   ]
  },
  {
   "cell_type": "code",
   "execution_count": 300,
   "id": "7271da3d",
   "metadata": {},
   "outputs": [
    {
     "name": "stdout",
     "output_type": "stream",
     "text": [
      "X = (701, 98)\n",
      "Y = (701,)\n"
     ]
    }
   ],
   "source": [
    "print(f\"X = {X.shape}\")\n",
    "print(f\"Y = {y.shape}\")"
   ]
  },
  {
   "cell_type": "code",
   "execution_count": 301,
   "id": "797a4f8c",
   "metadata": {},
   "outputs": [
    {
     "name": "stdout",
     "output_type": "stream",
     "text": [
      "X_train = (140, 98)\n",
      "Y_train = (140,)\n",
      "\n",
      "X_test = (561, 98)\n",
      "Y_test = (561,)\n"
     ]
    }
   ],
   "source": [
    "print(f\"X_train = {X_train.shape}\")\n",
    "print(f\"Y_train = {y_train.shape}\\n\")\n",
    "print(f\"X_test = {X_test.shape}\")\n",
    "print(f\"Y_test = {y_test.shape}\")"
   ]
  },
  {
   "cell_type": "markdown",
   "id": "0e5bc414",
   "metadata": {},
   "source": [
    "## Support Vector Classification"
   ]
  },
  {
   "cell_type": "code",
   "execution_count": 302,
   "id": "a129c9f4",
   "metadata": {},
   "outputs": [
    {
     "name": "stdout",
     "output_type": "stream",
     "text": [
      "              precision    recall  f1-score   support\n",
      "\n",
      "           0       0.92      1.00      0.96       414\n",
      "           1       1.00      0.74      0.85       147\n",
      "\n",
      "    accuracy                           0.93       561\n",
      "   macro avg       0.96      0.87      0.90       561\n",
      "weighted avg       0.94      0.93      0.93       561\n",
      "\n",
      "Mean Absolute Error: 0.0677361853832442\n",
      "Mean Squared Error: 0.0677361853832442\n",
      "Root Mean Squared Error: 0.2602617631986001\n"
     ]
    }
   ],
   "source": [
    "# Apply SVC\n",
    "svc =SVC(random_state=3)\n",
    "svc.fit(X_train,y_train)\n",
    "pred_svc = svc.predict(X_test)\n",
    "print(classification_report(y_test,pred_svc))\n",
    "print('Mean Absolute Error:', metrics.mean_absolute_error(y_test, pred_svc))\n",
    "print('Mean Squared Error:', metrics.mean_squared_error(y_test, pred_svc))\n",
    "print('Root Mean Squared Error:', np.sqrt(metrics.mean_squared_error(y_test, pred_svc)))"
   ]
  },
  {
   "cell_type": "code",
   "execution_count": 303,
   "id": "eb2529b5",
   "metadata": {},
   "outputs": [
    {
     "data": {
      "text/plain": [
       "array([[1.    , 0.7415, 0.8516]])"
      ]
     },
     "execution_count": 303,
     "metadata": {},
     "output_type": "execute_result"
    }
   ],
   "source": [
    "A = np.array([ round(metrics.precision_score(y_test, pred_svc),4),\n",
    "    round(metrics.recall_score(y_test, pred_svc),4),\n",
    "    round(metrics.f1_score(y_test, pred_svc),4)])\n",
    "A = np.reshape(A, (1, 3))\n",
    "A"
   ]
  },
  {
   "cell_type": "markdown",
   "id": "773579a0",
   "metadata": {},
   "source": [
    "## Random Forest Classifier"
   ]
  },
  {
   "cell_type": "code",
   "execution_count": 304,
   "id": "8ef1daf9",
   "metadata": {},
   "outputs": [
    {
     "name": "stdout",
     "output_type": "stream",
     "text": [
      "              precision    recall  f1-score   support\n",
      "\n",
      "           0       1.00      1.00      1.00       414\n",
      "           1       1.00      0.99      0.99       147\n",
      "\n",
      "    accuracy                           1.00       561\n",
      "   macro avg       1.00      0.99      1.00       561\n",
      "weighted avg       1.00      1.00      1.00       561\n",
      "\n",
      "Mean Absolute Error: 0.0035650623885918\n",
      "Mean Squared Error: 0.0035650623885918\n",
      "Root Mean Squared Error: 0.05970814340265321\n"
     ]
    }
   ],
   "source": [
    "# Apply RFC\n",
    "rfc = RandomForestClassifier(random_state=3) \n",
    "rfc.fit(X_train, y_train)\n",
    "pred_RFR = rfc.predict(X_test) \n",
    "print(classification_report(y_test,pred_RFR))\n",
    "print('Mean Absolute Error:', metrics.mean_absolute_error(y_test, pred_RFR))\n",
    "print('Mean Squared Error:', metrics.mean_squared_error(y_test, pred_RFR))\n",
    "print('Root Mean Squared Error:', np.sqrt(metrics.mean_squared_error(y_test, pred_RFR)))"
   ]
  },
  {
   "cell_type": "code",
   "execution_count": 305,
   "id": "53a939b1",
   "metadata": {},
   "outputs": [
    {
     "data": {
      "text/plain": [
       "array([[1.    , 0.9864, 0.9932]])"
      ]
     },
     "execution_count": 305,
     "metadata": {},
     "output_type": "execute_result"
    }
   ],
   "source": [
    "B = np.array([ round(metrics.precision_score(y_test, pred_RFR),4),\n",
    "    round(metrics.recall_score(y_test, pred_RFR),4),\n",
    "    round(metrics.f1_score(y_test, pred_RFR),4)])\n",
    "B = np.reshape(B, (1, 3))\n",
    "B"
   ]
  },
  {
   "cell_type": "markdown",
   "id": "c16e63d6",
   "metadata": {},
   "source": [
    "## Classification Comparison"
   ]
  },
  {
   "cell_type": "markdown",
   "id": "9a057c4b",
   "metadata": {},
   "source": [
    "### Roc Curve"
   ]
  },
  {
   "cell_type": "code",
   "execution_count": 306,
   "id": "127f56db",
   "metadata": {},
   "outputs": [
    {
     "data": {
      "image/png": "[encoded data removed]",
      "text/plain": [
       "<Figure size 432x288 with 1 Axes>"
      ]
     },
     "metadata": {
      "needs_background": "light"
     },
     "output_type": "display_data"
    }
   ],
   "source": [
    "svc_disp = RocCurveDisplay.from_estimator(svc, X_test, y_test)\n",
    "ax = plt.gca()\n",
    "rfc_disp = RocCurveDisplay.from_estimator(rfc, X_test, y_test, ax=ax, alpha=0.8)\n",
    "regressor_disp = ()\n",
    "plt.show()"
   ]
  },
  {
   "cell_type": "markdown",
   "id": "4168b979",
   "metadata": {},
   "source": [
    "We cannot clearly see the difference with the Roc curve even if we can briefly see that RFC is slightly more eccentric than an RFC."
   ]
  },
  {
   "cell_type": "markdown",
   "id": "45d1b4b9",
   "metadata": {},
   "source": [
    "### Plot Bar"
   ]
  },
  {
   "cell_type": "code",
   "execution_count": 307,
   "id": "072c2cb2",
   "metadata": {},
   "outputs": [
    {
     "data": {
      "image/png": "[encoded data removed]",
      "text/plain": [
       "<Figure size 432x288 with 1 Axes>"
      ]
     },
     "metadata": {
      "needs_background": "light"
     },
     "output_type": "display_data"
    },
    {
     "name": "stdout",
     "output_type": "stream",
     "text": [
      "[array([[1.    , 0.7415, 0.8516]]), array([[1.    , 0.9864, 0.9932]])]\n"
     ]
    }
   ],
   "source": [
    "# plot scoring to see the difference\n",
    "Data = np.reshape([A, B], (2, 3))\n",
    "fig = pd.DataFrame(Data, columns=[\"precision_score\", \"recall_score\", \"f1_score\"], index=['SVC', 'RFC'])\n",
    "fig.plot.bar();\n",
    "plt.show()\n",
    "print([A, B])"
   ]
  },
  {
   "cell_type": "markdown",
   "id": "363c24c4",
   "metadata": {},
   "source": [
    "We will use Random Forest Classifier. He has the best scores and is the most eccentric curve in the ROC curve."
   ]
  }
 ],
 "metadata": {
  "kernelspec": {
   "display_name": "Python 3",
   "language": "python",
   "name": "python3"
  },
  "language_info": {
   "codemirror_mode": {
    "name": "ipython",
    "version": 3
   },
   "file_extension": ".py",
   "mimetype": "text/x-python",
   "name": "python",
   "nbconvert_exporter": "python",
   "pygments_lexer": "ipython3",
   "version": "3.8.8"
  }
 },
 "nbformat": 4,
 "nbformat_minor": 5
}
