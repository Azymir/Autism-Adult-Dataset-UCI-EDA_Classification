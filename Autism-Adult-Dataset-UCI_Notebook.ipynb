{
 "cells": [
  {
   "cell_type": "markdown",
   "id": "7026ebba",
   "metadata": {},
   "source": [
    "Title: Autism Screening Adult Data Set\n",
    " -----------------------------------------\n",
    "\n",
    "Number of Instances:704\n",
    "\n",
    "Attribute Characteristics: Integer\n",
    "\n",
    "Number of Attributes:21\n",
    "\n",
    "Date Donated 2017-12-24\n",
    "\n",
    "Associated Tasks: Classification\n",
    "\n",
    "Missing Values? Yes\n",
    "\n",
    "Number of Web Hits: 84051\n",
    "\n",
    "         Attribute                        Domain\n",
    "\n",
    "       1. A1_Score                       {0,1}\n",
    "       2. A2_Score                       {0,1}\n",
    "       3. A3_Score                       {0,1}\n",
    "       4. A4_Score                       {0,1}\n",
    "       5. A5_Score                       {0,1}\n",
    "       6. A6_Score                       {0,1}\n",
    "       7. A7_Score                       {0,1}\n",
    "       8. A8_Score                       {0,1}\n",
    "       9. A9_Score                       {0,1}\n",
    "      10. A10_Score                      {0,1}\n",
    "      11. age                            numeric\n",
    "      12. gender                         {f,m}\n",
    "      13. ethnicity                      {White-European,Latino,Others,Black,Asian,'Middle Eastern ',Pasifika,'South asian',Hispanic,Turkish,others}\n",
    "      14.jundice                         {no,yes}\n",
    "      15.austim                          {no,yes}\n",
    "      16.contry_of_res                   {'United States',Brazil,Spain,Egypt,'New Zealand',Bahamas,Burundi,Austria,Argentina,Jordan,Ireland,'United Arab Emirates',Afghanistan,Lebanon,'United Kingdom','South Africa',Italy,Pakistan,Bangladesh,Chile,France,China,Australia,Canada,'Saudi Arabia',Netherlands,Romania,Sweden,Tonga,Oman,India,Philippines,'Sri Lanka','Sierra Leone',Ethiopia,'Viet Nam',Iran,'Costa Rica',Germany,Mexico,Russia,Armenia,Iceland,Nicaragua,'Hong Kong',Japan,Ukraine,Kazakhstan,AmericanSamoa,Uruguay,Serbia,Portugal,Malaysia,Ecuador,Niger,Belgium,Bolivia,Aruba,Finland,Turkey,Nepal,Indonesia,Angola,Azerbaijan,Iraq,'Czech Republic',Cyprus}\n",
    "      17.used_app_before                 {no,yes}\n",
    "      18.result                          numeric\n",
    "      19.age_desc                        {'18 and more'}\n",
    "      20.relation                        {Self,Parent,'Health care professional',Relative,Others}\n",
    "      21.Class/ASD                       {NO,YES}"
   ]
  },
  {
   "cell_type": "markdown",
   "id": "d5fb2070",
   "metadata": {},
   "source": [
    "#### Features Description\n",
    "\n",
    "    Feature\t: Description\n",
    "    index : The participant’s ID number\n",
    "    AX_Score: Score based on the Autism Spectrum Quotient (AQ) 10 item screening tool AQ-10\n",
    "    age : Age in years\n",
    "    gender : Male or Female\n",
    "    ethnicity: Ethnicities in text form\n",
    "    jaundice : Whether or not the participant was born with jaundice?\n",
    "    austsm : Whether or not anyone in tbe immediate family has been diagnosed with autism?\n",
    "    country_of_res : Countries in text format\n",
    "    used_app_before : Whether the participant has used a screening app\n",
    "    result\tScore from the AQ-10 screening tool\n",
    "    age_desc : Age as categorical\n",
    "    relation : Relation of person who completed the test\n",
    "    Class/ASD :\tParticipant classification"
   ]
  },
  {
   "cell_type": "markdown",
   "id": "3d3cdedb",
   "metadata": {},
   "source": [
    "## Importing Libraries"
   ]
  },
  {
   "cell_type": "code",
   "execution_count": 157,
   "id": "0a2fcafc",
   "metadata": {},
   "outputs": [],
   "source": [
    "# For dataframe and visualization\n",
    "import numpy as np\n",
    "import pandas as pd\n",
    "import matplotlib.pyplot as plt\n",
    "import seaborn as sns\n",
    "import numpy as np\n",
    "from scipy.io import arff\n",
    "\n",
    "# Processing data\n",
    "from sklearn import preprocessing\n",
    "from sklearn.preprocessing import StandardScaler\n",
    "\n",
    "# Prepare Data for classification\n",
    "from sklearn.model_selection import train_test_split\n",
    "from sklearn.metrics import classification_report, accuracy_score\n",
    "\n",
    "#\n",
    "\n",
    "# Classification\n",
    "from sklearn.linear_model import LinearRegression\n",
    "from sklearn.ensemble import RandomForestClassifier\n",
    "from sklearn.svm import SVC\n",
    "from sklearn import metrics\n",
    "from sklearn.metrics import mean_absolute_error\n",
    "\n",
    "#\n",
    "from sklearn.metrics import RocCurveDisplay\n"
   ]
  },
  {
   "cell_type": "markdown",
   "id": "1c59307d",
   "metadata": {},
   "source": [
    "## Reading Data"
   ]
  },
  {
   "cell_type": "code",
   "execution_count": 158,
   "id": "a210013a",
   "metadata": {},
   "outputs": [],
   "source": [
    "# chargement des données\n",
    "# data = arff.loadarff('Autism-Adult-Data.arff')\n",
    "dataset = pd.read_table('Autism-Adult-Data.arff', sep = ',')"
   ]
  },
  {
   "cell_type": "code",
   "execution_count": 159,
   "id": "6e6f512c",
   "metadata": {},
   "outputs": [],
   "source": [
    "# df = pd.DataFrame(data[0])\n",
    "df = dataset.copy()"
   ]
  },
  {
   "cell_type": "code",
   "execution_count": 160,
   "id": "eae36abc",
   "metadata": {},
   "outputs": [],
   "source": [
    "# Rename columns\n",
    "df.columns = ['A1_Score','A2_Score','A3_Score','A4_Score','A5_Score','A6_Score','A7_Score','A8_Score','A9_Score','A10_Score','age','gender','ethnicity','jundice','austim','contry_of_res','used_app_before' ,'result' 'numeric','age_desc','relation','Class/ASD']"
   ]
  },
  {
   "cell_type": "code",
   "execution_count": 161,
   "id": "f7f9d8d4",
   "metadata": {
    "scrolled": false
   },
   "outputs": [
    {
     "data": {
      "text/html": [
       "<div>\n",
       "<style scoped>\n",
       "    .dataframe tbody tr th:only-of-type {\n",
       "        vertical-align: middle;\n",
       "    }\n",
       "\n",
       "    .dataframe tbody tr th {\n",
       "        vertical-align: top;\n",
       "    }\n",
       "\n",
       "    .dataframe thead th {\n",
       "        text-align: right;\n",
       "    }\n",
       "</style>\n",
       "<table border=\"1\" class=\"dataframe\">\n",
       "  <thead>\n",
       "    <tr style=\"text-align: right;\">\n",
       "      <th></th>\n",
       "      <th>A1_Score</th>\n",
       "      <th>A2_Score</th>\n",
       "      <th>A3_Score</th>\n",
       "      <th>A4_Score</th>\n",
       "      <th>A5_Score</th>\n",
       "      <th>A6_Score</th>\n",
       "      <th>A7_Score</th>\n",
       "      <th>A8_Score</th>\n",
       "      <th>A9_Score</th>\n",
       "      <th>A10_Score</th>\n",
       "      <th>...</th>\n",
       "      <th>gender</th>\n",
       "      <th>ethnicity</th>\n",
       "      <th>jundice</th>\n",
       "      <th>austim</th>\n",
       "      <th>contry_of_res</th>\n",
       "      <th>used_app_before</th>\n",
       "      <th>resultnumeric</th>\n",
       "      <th>age_desc</th>\n",
       "      <th>relation</th>\n",
       "      <th>Class/ASD</th>\n",
       "    </tr>\n",
       "  </thead>\n",
       "  <tbody>\n",
       "    <tr>\n",
       "      <th>0</th>\n",
       "      <td>1</td>\n",
       "      <td>1</td>\n",
       "      <td>0</td>\n",
       "      <td>1</td>\n",
       "      <td>0</td>\n",
       "      <td>0</td>\n",
       "      <td>0</td>\n",
       "      <td>1</td>\n",
       "      <td>0</td>\n",
       "      <td>1</td>\n",
       "      <td>...</td>\n",
       "      <td>m</td>\n",
       "      <td>Latino</td>\n",
       "      <td>no</td>\n",
       "      <td>yes</td>\n",
       "      <td>Brazil</td>\n",
       "      <td>no</td>\n",
       "      <td>5</td>\n",
       "      <td>'18 and more'</td>\n",
       "      <td>Self</td>\n",
       "      <td>NO</td>\n",
       "    </tr>\n",
       "    <tr>\n",
       "      <th>1</th>\n",
       "      <td>1</td>\n",
       "      <td>1</td>\n",
       "      <td>0</td>\n",
       "      <td>1</td>\n",
       "      <td>1</td>\n",
       "      <td>0</td>\n",
       "      <td>1</td>\n",
       "      <td>1</td>\n",
       "      <td>1</td>\n",
       "      <td>1</td>\n",
       "      <td>...</td>\n",
       "      <td>m</td>\n",
       "      <td>Latino</td>\n",
       "      <td>yes</td>\n",
       "      <td>yes</td>\n",
       "      <td>Spain</td>\n",
       "      <td>no</td>\n",
       "      <td>8</td>\n",
       "      <td>'18 and more'</td>\n",
       "      <td>Parent</td>\n",
       "      <td>YES</td>\n",
       "    </tr>\n",
       "    <tr>\n",
       "      <th>2</th>\n",
       "      <td>1</td>\n",
       "      <td>1</td>\n",
       "      <td>0</td>\n",
       "      <td>1</td>\n",
       "      <td>0</td>\n",
       "      <td>0</td>\n",
       "      <td>1</td>\n",
       "      <td>1</td>\n",
       "      <td>0</td>\n",
       "      <td>1</td>\n",
       "      <td>...</td>\n",
       "      <td>f</td>\n",
       "      <td>White-European</td>\n",
       "      <td>no</td>\n",
       "      <td>yes</td>\n",
       "      <td>'United States'</td>\n",
       "      <td>no</td>\n",
       "      <td>6</td>\n",
       "      <td>'18 and more'</td>\n",
       "      <td>Self</td>\n",
       "      <td>NO</td>\n",
       "    </tr>\n",
       "    <tr>\n",
       "      <th>3</th>\n",
       "      <td>1</td>\n",
       "      <td>0</td>\n",
       "      <td>0</td>\n",
       "      <td>0</td>\n",
       "      <td>0</td>\n",
       "      <td>0</td>\n",
       "      <td>0</td>\n",
       "      <td>1</td>\n",
       "      <td>0</td>\n",
       "      <td>0</td>\n",
       "      <td>...</td>\n",
       "      <td>f</td>\n",
       "      <td>?</td>\n",
       "      <td>no</td>\n",
       "      <td>no</td>\n",
       "      <td>Egypt</td>\n",
       "      <td>no</td>\n",
       "      <td>2</td>\n",
       "      <td>'18 and more'</td>\n",
       "      <td>?</td>\n",
       "      <td>NO</td>\n",
       "    </tr>\n",
       "    <tr>\n",
       "      <th>4</th>\n",
       "      <td>1</td>\n",
       "      <td>1</td>\n",
       "      <td>1</td>\n",
       "      <td>1</td>\n",
       "      <td>1</td>\n",
       "      <td>0</td>\n",
       "      <td>1</td>\n",
       "      <td>1</td>\n",
       "      <td>1</td>\n",
       "      <td>1</td>\n",
       "      <td>...</td>\n",
       "      <td>m</td>\n",
       "      <td>Others</td>\n",
       "      <td>yes</td>\n",
       "      <td>no</td>\n",
       "      <td>'United States'</td>\n",
       "      <td>no</td>\n",
       "      <td>9</td>\n",
       "      <td>'18 and more'</td>\n",
       "      <td>Self</td>\n",
       "      <td>YES</td>\n",
       "    </tr>\n",
       "  </tbody>\n",
       "</table>\n",
       "<p>5 rows × 21 columns</p>\n",
       "</div>"
      ],
      "text/plain": [
       "   A1_Score  A2_Score  A3_Score  A4_Score  A5_Score  A6_Score  A7_Score  \\\n",
       "0         1         1         0         1         0         0         0   \n",
       "1         1         1         0         1         1         0         1   \n",
       "2         1         1         0         1         0         0         1   \n",
       "3         1         0         0         0         0         0         0   \n",
       "4         1         1         1         1         1         0         1   \n",
       "\n",
       "   A8_Score  A9_Score  A10_Score  ... gender       ethnicity jundice austim  \\\n",
       "0         1         0          1  ...      m          Latino      no    yes   \n",
       "1         1         1          1  ...      m          Latino     yes    yes   \n",
       "2         1         0          1  ...      f  White-European      no    yes   \n",
       "3         1         0          0  ...      f               ?      no     no   \n",
       "4         1         1          1  ...      m          Others     yes     no   \n",
       "\n",
       "     contry_of_res used_app_before resultnumeric       age_desc relation  \\\n",
       "0           Brazil              no             5  '18 and more'     Self   \n",
       "1            Spain              no             8  '18 and more'   Parent   \n",
       "2  'United States'              no             6  '18 and more'     Self   \n",
       "3            Egypt              no             2  '18 and more'        ?   \n",
       "4  'United States'              no             9  '18 and more'     Self   \n",
       "\n",
       "  Class/ASD  \n",
       "0        NO  \n",
       "1       YES  \n",
       "2        NO  \n",
       "3        NO  \n",
       "4       YES  \n",
       "\n",
       "[5 rows x 21 columns]"
      ]
     },
     "execution_count": 161,
     "metadata": {},
     "output_type": "execute_result"
    }
   ],
   "source": [
    "df.head()"
   ]
  },
  {
   "cell_type": "code",
   "execution_count": 162,
   "id": "681fd60d",
   "metadata": {},
   "outputs": [
    {
     "data": {
      "text/plain": [
       "RangeIndex(start=0, stop=703, step=1)"
      ]
     },
     "execution_count": 162,
     "metadata": {},
     "output_type": "execute_result"
    }
   ],
   "source": [
    "df.index #Describe index"
   ]
  },
  {
   "cell_type": "code",
   "execution_count": 163,
   "id": "b8680a03",
   "metadata": {
    "scrolled": true
   },
   "outputs": [
    {
     "data": {
      "text/plain": [
       "(703, 21)"
      ]
     },
     "execution_count": 163,
     "metadata": {},
     "output_type": "execute_result"
    }
   ],
   "source": [
    "df.shape"
   ]
  },
  {
   "cell_type": "code",
   "execution_count": 164,
   "id": "23ecc3dd",
   "metadata": {},
   "outputs": [
    {
     "data": {
      "text/plain": [
       "A1_Score           703\n",
       "A2_Score           703\n",
       "A3_Score           703\n",
       "A4_Score           703\n",
       "A5_Score           703\n",
       "A6_Score           703\n",
       "A7_Score           703\n",
       "A8_Score           703\n",
       "A9_Score           703\n",
       "A10_Score          703\n",
       "age                703\n",
       "gender             703\n",
       "ethnicity          703\n",
       "jundice            703\n",
       "austim             703\n",
       "contry_of_res      703\n",
       "used_app_before    703\n",
       "resultnumeric      703\n",
       "age_desc           703\n",
       "relation           703\n",
       "Class/ASD          703\n",
       "dtype: int64"
      ]
     },
     "execution_count": 164,
     "metadata": {},
     "output_type": "execute_result"
    }
   ],
   "source": [
    "df.count() #Number of non-NA values"
   ]
  },
  {
   "cell_type": "markdown",
   "id": "81393aa0",
   "metadata": {},
   "source": [
    "## Feature Engineering"
   ]
  },
  {
   "cell_type": "code",
   "execution_count": 165,
   "id": "c434fd77",
   "metadata": {},
   "outputs": [
    {
     "name": "stdout",
     "output_type": "stream",
     "text": [
      "<class 'pandas.core.frame.DataFrame'>\n",
      "RangeIndex: 703 entries, 0 to 702\n",
      "Data columns (total 21 columns):\n",
      " #   Column           Non-Null Count  Dtype \n",
      "---  ------           --------------  ----- \n",
      " 0   A1_Score         703 non-null    int64 \n",
      " 1   A2_Score         703 non-null    int64 \n",
      " 2   A3_Score         703 non-null    int64 \n",
      " 3   A4_Score         703 non-null    int64 \n",
      " 4   A5_Score         703 non-null    int64 \n",
      " 5   A6_Score         703 non-null    int64 \n",
      " 6   A7_Score         703 non-null    int64 \n",
      " 7   A8_Score         703 non-null    int64 \n",
      " 8   A9_Score         703 non-null    int64 \n",
      " 9   A10_Score        703 non-null    int64 \n",
      " 10  age              703 non-null    object\n",
      " 11  gender           703 non-null    object\n",
      " 12  ethnicity        703 non-null    object\n",
      " 13  jundice          703 non-null    object\n",
      " 14  austim           703 non-null    object\n",
      " 15  contry_of_res    703 non-null    object\n",
      " 16  used_app_before  703 non-null    object\n",
      " 17  resultnumeric    703 non-null    int64 \n",
      " 18  age_desc         703 non-null    object\n",
      " 19  relation         703 non-null    object\n",
      " 20  Class/ASD        703 non-null    object\n",
      "dtypes: int64(11), object(10)\n",
      "memory usage: 115.5+ KB\n"
     ]
    }
   ],
   "source": [
    "df.info() #Info on DataFrame"
   ]
  },
  {
   "cell_type": "markdown",
   "id": "c0efa7d8",
   "metadata": {},
   "source": [
    "Some columns are object and some of them has string Yes or No, we need to replace them to boolean (0, 1)"
   ]
  },
  {
   "cell_type": "code",
   "execution_count": 166,
   "id": "9ed26cfd",
   "metadata": {},
   "outputs": [],
   "source": [
    "df = df.replace(\"yes\", 1)\n",
    "df = df.replace(\"no\", 0)\n",
    "df = df.replace(\"YES\", 1)\n",
    "df = df.replace(\"NO\", 0)\n",
    "df = df.replace(\"f\", 1)\n",
    "df = df.replace(\"m\", 0)"
   ]
  },
  {
   "cell_type": "code",
   "execution_count": 167,
   "id": "b7633ccd",
   "metadata": {},
   "outputs": [
    {
     "name": "stdout",
     "output_type": "stream",
     "text": [
      "<class 'pandas.core.frame.DataFrame'>\n",
      "RangeIndex: 703 entries, 0 to 702\n",
      "Data columns (total 21 columns):\n",
      " #   Column           Non-Null Count  Dtype \n",
      "---  ------           --------------  ----- \n",
      " 0   A1_Score         703 non-null    int64 \n",
      " 1   A2_Score         703 non-null    int64 \n",
      " 2   A3_Score         703 non-null    int64 \n",
      " 3   A4_Score         703 non-null    int64 \n",
      " 4   A5_Score         703 non-null    int64 \n",
      " 5   A6_Score         703 non-null    int64 \n",
      " 6   A7_Score         703 non-null    int64 \n",
      " 7   A8_Score         703 non-null    int64 \n",
      " 8   A9_Score         703 non-null    int64 \n",
      " 9   A10_Score        703 non-null    int64 \n",
      " 10  age              703 non-null    object\n",
      " 11  gender           703 non-null    int64 \n",
      " 12  ethnicity        703 non-null    object\n",
      " 13  jundice          703 non-null    int64 \n",
      " 14  austim           703 non-null    int64 \n",
      " 15  contry_of_res    703 non-null    object\n",
      " 16  used_app_before  703 non-null    int64 \n",
      " 17  resultnumeric    703 non-null    int64 \n",
      " 18  age_desc         703 non-null    object\n",
      " 19  relation         703 non-null    object\n",
      " 20  Class/ASD        703 non-null    int64 \n",
      "dtypes: int64(16), object(5)\n",
      "memory usage: 115.5+ KB\n"
     ]
    }
   ],
   "source": [
    "df.info() #Info on DataFrame"
   ]
  },
  {
   "cell_type": "code",
   "execution_count": 168,
   "id": "d16de4c8",
   "metadata": {},
   "outputs": [
    {
     "data": {
      "text/plain": [
       "{'A1_Score': 0,\n",
       " 'A2_Score': 0,\n",
       " 'A3_Score': 0,\n",
       " 'A4_Score': 0,\n",
       " 'A5_Score': 0,\n",
       " 'A6_Score': 0,\n",
       " 'A7_Score': 0,\n",
       " 'A8_Score': 0,\n",
       " 'A9_Score': 0,\n",
       " 'A10_Score': 0,\n",
       " 'age': 2,\n",
       " 'gender': 0,\n",
       " 'ethnicity': 95,\n",
       " 'jundice': 0,\n",
       " 'austim': 0,\n",
       " 'contry_of_res': 0,\n",
       " 'used_app_before': 0,\n",
       " 'resultnumeric': 0,\n",
       " 'age_desc': 0,\n",
       " 'relation': 95,\n",
       " 'Class/ASD': 0}"
      ]
     },
     "execution_count": 168,
     "metadata": {},
     "output_type": "execute_result"
    }
   ],
   "source": [
    "MissingValues = {col:df[df[col] == \"?\"].shape[0] for col in df.columns}\n",
    "MissingValues"
   ]
  },
  {
   "cell_type": "markdown",
   "id": "4589ae3d",
   "metadata": {},
   "source": [
    "### Replace '?' values of Age by mean"
   ]
  },
  {
   "cell_type": "code",
   "execution_count": 169,
   "id": "1fcdbad8",
   "metadata": {},
   "outputs": [],
   "source": [
    "for j in range(df.shape[0]):\n",
    "    if(df.iloc[j,10]=='?'):\n",
    "        df.iloc[j,10]=np.NaN"
   ]
  },
  {
   "cell_type": "code",
   "execution_count": 170,
   "id": "4884ee97",
   "metadata": {},
   "outputs": [],
   "source": [
    "df.dropna(inplace= True)"
   ]
  },
  {
   "cell_type": "code",
   "execution_count": 171,
   "id": "964026d5",
   "metadata": {},
   "outputs": [],
   "source": [
    "df['age'] = df['age'].str.replace(',','').astype(int)"
   ]
  },
  {
   "cell_type": "markdown",
   "id": "974c93cf",
   "metadata": {},
   "source": [
    "### Replace '?' values of ethnicity by 'Others' and 'others' by 'Others'"
   ]
  },
  {
   "cell_type": "code",
   "execution_count": 172,
   "id": "37665de1",
   "metadata": {},
   "outputs": [
    {
     "data": {
      "text/plain": [
       "array(['Latino', 'White-European', '?', 'Others', 'Black', 'Asian',\n",
       "       \"'Middle Eastern '\", 'Pasifika', \"'South Asian'\", 'Hispanic',\n",
       "       'Turkish', 'others'], dtype=object)"
      ]
     },
     "execution_count": 172,
     "metadata": {},
     "output_type": "execute_result"
    }
   ],
   "source": [
    "df['ethnicity'].unique()"
   ]
  },
  {
   "cell_type": "code",
   "execution_count": 173,
   "id": "ae1632d8",
   "metadata": {},
   "outputs": [],
   "source": [
    "df['ethnicity'] = df['ethnicity'].replace('?', 'others')"
   ]
  },
  {
   "cell_type": "code",
   "execution_count": 174,
   "id": "9015fe9e",
   "metadata": {},
   "outputs": [],
   "source": [
    "df['ethnicity'] = df['ethnicity'].replace('others', 'Others')"
   ]
  },
  {
   "cell_type": "code",
   "execution_count": 175,
   "id": "763507a2",
   "metadata": {},
   "outputs": [
    {
     "data": {
      "text/plain": [
       "array(['Latino', 'White-European', 'Others', 'Black', 'Asian',\n",
       "       \"'Middle Eastern '\", 'Pasifika', \"'South Asian'\", 'Hispanic',\n",
       "       'Turkish'], dtype=object)"
      ]
     },
     "execution_count": 175,
     "metadata": {},
     "output_type": "execute_result"
    }
   ],
   "source": [
    "df['ethnicity'].unique()"
   ]
  },
  {
   "cell_type": "markdown",
   "id": "0da1f5fd",
   "metadata": {},
   "source": [
    "### Replace '?' values of relation by a  mode of relation"
   ]
  },
  {
   "cell_type": "code",
   "execution_count": 176,
   "id": "9290dab3",
   "metadata": {},
   "outputs": [
    {
     "data": {
      "text/plain": [
       "array(['Self', 'Parent', '?', \"'Health care professional'\", 'Relative',\n",
       "       'Others'], dtype=object)"
      ]
     },
     "execution_count": 176,
     "metadata": {},
     "output_type": "execute_result"
    }
   ],
   "source": [
    "df['relation'].unique()"
   ]
  },
  {
   "cell_type": "code",
   "execution_count": 177,
   "id": "2b6068fe",
   "metadata": {},
   "outputs": [],
   "source": [
    "df['relation'] = df['relation'].replace('?', df['relation'].mode()[0])"
   ]
  },
  {
   "cell_type": "code",
   "execution_count": 178,
   "id": "cfa4ca10",
   "metadata": {},
   "outputs": [
    {
     "data": {
      "text/plain": [
       "array(['Self', 'Parent', \"'Health care professional'\", 'Relative',\n",
       "       'Others'], dtype=object)"
      ]
     },
     "execution_count": 178,
     "metadata": {},
     "output_type": "execute_result"
    }
   ],
   "source": [
    "df['relation'].unique()"
   ]
  },
  {
   "cell_type": "code",
   "execution_count": 179,
   "id": "13b60e43",
   "metadata": {},
   "outputs": [
    {
     "data": {
      "text/plain": [
       "A1_Score           0\n",
       "A2_Score           0\n",
       "A3_Score           0\n",
       "A4_Score           0\n",
       "A5_Score           0\n",
       "A6_Score           0\n",
       "A7_Score           0\n",
       "A8_Score           0\n",
       "A9_Score           0\n",
       "A10_Score          0\n",
       "age                0\n",
       "gender             0\n",
       "ethnicity          0\n",
       "jundice            0\n",
       "austim             0\n",
       "contry_of_res      0\n",
       "used_app_before    0\n",
       "resultnumeric      0\n",
       "age_desc           0\n",
       "relation           0\n",
       "Class/ASD          0\n",
       "dtype: int64"
      ]
     },
     "execution_count": 179,
     "metadata": {},
     "output_type": "execute_result"
    }
   ],
   "source": [
    "df.isnull().sum() #Number of NA values"
   ]
  },
  {
   "cell_type": "code",
   "execution_count": 180,
   "id": "20a18128",
   "metadata": {},
   "outputs": [
    {
     "name": "stdout",
     "output_type": "stream",
     "text": [
      "<class 'pandas.core.frame.DataFrame'>\n",
      "Int64Index: 701 entries, 0 to 702\n",
      "Data columns (total 21 columns):\n",
      " #   Column           Non-Null Count  Dtype \n",
      "---  ------           --------------  ----- \n",
      " 0   A1_Score         701 non-null    int64 \n",
      " 1   A2_Score         701 non-null    int64 \n",
      " 2   A3_Score         701 non-null    int64 \n",
      " 3   A4_Score         701 non-null    int64 \n",
      " 4   A5_Score         701 non-null    int64 \n",
      " 5   A6_Score         701 non-null    int64 \n",
      " 6   A7_Score         701 non-null    int64 \n",
      " 7   A8_Score         701 non-null    int64 \n",
      " 8   A9_Score         701 non-null    int64 \n",
      " 9   A10_Score        701 non-null    int64 \n",
      " 10  age              701 non-null    int64 \n",
      " 11  gender           701 non-null    int64 \n",
      " 12  ethnicity        701 non-null    object\n",
      " 13  jundice          701 non-null    int64 \n",
      " 14  austim           701 non-null    int64 \n",
      " 15  contry_of_res    701 non-null    object\n",
      " 16  used_app_before  701 non-null    int64 \n",
      " 17  resultnumeric    701 non-null    int64 \n",
      " 18  age_desc         701 non-null    object\n",
      " 19  relation         701 non-null    object\n",
      " 20  Class/ASD        701 non-null    int64 \n",
      "dtypes: int64(17), object(4)\n",
      "memory usage: 120.5+ KB\n"
     ]
    }
   ],
   "source": [
    "df.info() #Info on DataFrame"
   ]
  },
  {
   "cell_type": "markdown",
   "id": "22a30522",
   "metadata": {},
   "source": [
    "    # : number of functions in the data framework\n",
    "    Column: Features header in the Dataframe\n",
    "    Non-null Count: Counter of nonzero values for each Dataframe function\n",
    "    Type: type of data stored for each function of the data frame"
   ]
  },
  {
   "cell_type": "markdown",
   "id": "2ddd68f4",
   "metadata": {},
   "source": [
    "## Summary"
   ]
  },
  {
   "cell_type": "code",
   "execution_count": 181,
   "id": "8cd0f6da",
   "metadata": {},
   "outputs": [
    {
     "data": {
      "text/html": [
       "<div>\n",
       "<style scoped>\n",
       "    .dataframe tbody tr th:only-of-type {\n",
       "        vertical-align: middle;\n",
       "    }\n",
       "\n",
       "    .dataframe tbody tr th {\n",
       "        vertical-align: top;\n",
       "    }\n",
       "\n",
       "    .dataframe thead th {\n",
       "        text-align: right;\n",
       "    }\n",
       "</style>\n",
       "<table border=\"1\" class=\"dataframe\">\n",
       "  <thead>\n",
       "    <tr style=\"text-align: right;\">\n",
       "      <th></th>\n",
       "      <th>A1_Score</th>\n",
       "      <th>A2_Score</th>\n",
       "      <th>A3_Score</th>\n",
       "      <th>A4_Score</th>\n",
       "      <th>A5_Score</th>\n",
       "      <th>A6_Score</th>\n",
       "      <th>A7_Score</th>\n",
       "      <th>A8_Score</th>\n",
       "      <th>A9_Score</th>\n",
       "      <th>A10_Score</th>\n",
       "      <th>age</th>\n",
       "      <th>gender</th>\n",
       "      <th>jundice</th>\n",
       "      <th>austim</th>\n",
       "      <th>used_app_before</th>\n",
       "      <th>resultnumeric</th>\n",
       "      <th>Class/ASD</th>\n",
       "    </tr>\n",
       "  </thead>\n",
       "  <tbody>\n",
       "    <tr>\n",
       "      <th>count</th>\n",
       "      <td>701.000000</td>\n",
       "      <td>701.000000</td>\n",
       "      <td>701.000000</td>\n",
       "      <td>701.000000</td>\n",
       "      <td>701.000000</td>\n",
       "      <td>701.000000</td>\n",
       "      <td>701.000000</td>\n",
       "      <td>701.000000</td>\n",
       "      <td>701.000000</td>\n",
       "      <td>701.000000</td>\n",
       "      <td>701.000000</td>\n",
       "      <td>701.000000</td>\n",
       "      <td>701.000000</td>\n",
       "      <td>701.000000</td>\n",
       "      <td>701.000000</td>\n",
       "      <td>701.000000</td>\n",
       "      <td>701.000000</td>\n",
       "    </tr>\n",
       "    <tr>\n",
       "      <th>mean</th>\n",
       "      <td>0.723252</td>\n",
       "      <td>0.452211</td>\n",
       "      <td>0.457917</td>\n",
       "      <td>0.496434</td>\n",
       "      <td>0.499287</td>\n",
       "      <td>0.285307</td>\n",
       "      <td>0.416548</td>\n",
       "      <td>0.650499</td>\n",
       "      <td>0.325250</td>\n",
       "      <td>0.574893</td>\n",
       "      <td>29.703281</td>\n",
       "      <td>0.477889</td>\n",
       "      <td>0.098431</td>\n",
       "      <td>0.129815</td>\n",
       "      <td>0.017118</td>\n",
       "      <td>4.881598</td>\n",
       "      <td>0.269615</td>\n",
       "    </tr>\n",
       "    <tr>\n",
       "      <th>std</th>\n",
       "      <td>0.447710</td>\n",
       "      <td>0.498066</td>\n",
       "      <td>0.498582</td>\n",
       "      <td>0.500344</td>\n",
       "      <td>0.500357</td>\n",
       "      <td>0.451883</td>\n",
       "      <td>0.493339</td>\n",
       "      <td>0.477153</td>\n",
       "      <td>0.468803</td>\n",
       "      <td>0.494712</td>\n",
       "      <td>16.518660</td>\n",
       "      <td>0.499868</td>\n",
       "      <td>0.298109</td>\n",
       "      <td>0.336339</td>\n",
       "      <td>0.129805</td>\n",
       "      <td>2.499478</td>\n",
       "      <td>0.444077</td>\n",
       "    </tr>\n",
       "    <tr>\n",
       "      <th>min</th>\n",
       "      <td>0.000000</td>\n",
       "      <td>0.000000</td>\n",
       "      <td>0.000000</td>\n",
       "      <td>0.000000</td>\n",
       "      <td>0.000000</td>\n",
       "      <td>0.000000</td>\n",
       "      <td>0.000000</td>\n",
       "      <td>0.000000</td>\n",
       "      <td>0.000000</td>\n",
       "      <td>0.000000</td>\n",
       "      <td>17.000000</td>\n",
       "      <td>0.000000</td>\n",
       "      <td>0.000000</td>\n",
       "      <td>0.000000</td>\n",
       "      <td>0.000000</td>\n",
       "      <td>0.000000</td>\n",
       "      <td>0.000000</td>\n",
       "    </tr>\n",
       "    <tr>\n",
       "      <th>25%</th>\n",
       "      <td>0.000000</td>\n",
       "      <td>0.000000</td>\n",
       "      <td>0.000000</td>\n",
       "      <td>0.000000</td>\n",
       "      <td>0.000000</td>\n",
       "      <td>0.000000</td>\n",
       "      <td>0.000000</td>\n",
       "      <td>0.000000</td>\n",
       "      <td>0.000000</td>\n",
       "      <td>0.000000</td>\n",
       "      <td>21.000000</td>\n",
       "      <td>0.000000</td>\n",
       "      <td>0.000000</td>\n",
       "      <td>0.000000</td>\n",
       "      <td>0.000000</td>\n",
       "      <td>3.000000</td>\n",
       "      <td>0.000000</td>\n",
       "    </tr>\n",
       "    <tr>\n",
       "      <th>50%</th>\n",
       "      <td>1.000000</td>\n",
       "      <td>0.000000</td>\n",
       "      <td>0.000000</td>\n",
       "      <td>0.000000</td>\n",
       "      <td>0.000000</td>\n",
       "      <td>0.000000</td>\n",
       "      <td>0.000000</td>\n",
       "      <td>1.000000</td>\n",
       "      <td>0.000000</td>\n",
       "      <td>1.000000</td>\n",
       "      <td>27.000000</td>\n",
       "      <td>0.000000</td>\n",
       "      <td>0.000000</td>\n",
       "      <td>0.000000</td>\n",
       "      <td>0.000000</td>\n",
       "      <td>4.000000</td>\n",
       "      <td>0.000000</td>\n",
       "    </tr>\n",
       "    <tr>\n",
       "      <th>75%</th>\n",
       "      <td>1.000000</td>\n",
       "      <td>1.000000</td>\n",
       "      <td>1.000000</td>\n",
       "      <td>1.000000</td>\n",
       "      <td>1.000000</td>\n",
       "      <td>1.000000</td>\n",
       "      <td>1.000000</td>\n",
       "      <td>1.000000</td>\n",
       "      <td>1.000000</td>\n",
       "      <td>1.000000</td>\n",
       "      <td>35.000000</td>\n",
       "      <td>1.000000</td>\n",
       "      <td>0.000000</td>\n",
       "      <td>0.000000</td>\n",
       "      <td>0.000000</td>\n",
       "      <td>7.000000</td>\n",
       "      <td>1.000000</td>\n",
       "    </tr>\n",
       "    <tr>\n",
       "      <th>max</th>\n",
       "      <td>1.000000</td>\n",
       "      <td>1.000000</td>\n",
       "      <td>1.000000</td>\n",
       "      <td>1.000000</td>\n",
       "      <td>1.000000</td>\n",
       "      <td>1.000000</td>\n",
       "      <td>1.000000</td>\n",
       "      <td>1.000000</td>\n",
       "      <td>1.000000</td>\n",
       "      <td>1.000000</td>\n",
       "      <td>383.000000</td>\n",
       "      <td>1.000000</td>\n",
       "      <td>1.000000</td>\n",
       "      <td>1.000000</td>\n",
       "      <td>1.000000</td>\n",
       "      <td>10.000000</td>\n",
       "      <td>1.000000</td>\n",
       "    </tr>\n",
       "  </tbody>\n",
       "</table>\n",
       "</div>"
      ],
      "text/plain": [
       "         A1_Score    A2_Score    A3_Score    A4_Score    A5_Score    A6_Score  \\\n",
       "count  701.000000  701.000000  701.000000  701.000000  701.000000  701.000000   \n",
       "mean     0.723252    0.452211    0.457917    0.496434    0.499287    0.285307   \n",
       "std      0.447710    0.498066    0.498582    0.500344    0.500357    0.451883   \n",
       "min      0.000000    0.000000    0.000000    0.000000    0.000000    0.000000   \n",
       "25%      0.000000    0.000000    0.000000    0.000000    0.000000    0.000000   \n",
       "50%      1.000000    0.000000    0.000000    0.000000    0.000000    0.000000   \n",
       "75%      1.000000    1.000000    1.000000    1.000000    1.000000    1.000000   \n",
       "max      1.000000    1.000000    1.000000    1.000000    1.000000    1.000000   \n",
       "\n",
       "         A7_Score    A8_Score    A9_Score   A10_Score         age      gender  \\\n",
       "count  701.000000  701.000000  701.000000  701.000000  701.000000  701.000000   \n",
       "mean     0.416548    0.650499    0.325250    0.574893   29.703281    0.477889   \n",
       "std      0.493339    0.477153    0.468803    0.494712   16.518660    0.499868   \n",
       "min      0.000000    0.000000    0.000000    0.000000   17.000000    0.000000   \n",
       "25%      0.000000    0.000000    0.000000    0.000000   21.000000    0.000000   \n",
       "50%      0.000000    1.000000    0.000000    1.000000   27.000000    0.000000   \n",
       "75%      1.000000    1.000000    1.000000    1.000000   35.000000    1.000000   \n",
       "max      1.000000    1.000000    1.000000    1.000000  383.000000    1.000000   \n",
       "\n",
       "          jundice      austim  used_app_before  resultnumeric   Class/ASD  \n",
       "count  701.000000  701.000000       701.000000     701.000000  701.000000  \n",
       "mean     0.098431    0.129815         0.017118       4.881598    0.269615  \n",
       "std      0.298109    0.336339         0.129805       2.499478    0.444077  \n",
       "min      0.000000    0.000000         0.000000       0.000000    0.000000  \n",
       "25%      0.000000    0.000000         0.000000       3.000000    0.000000  \n",
       "50%      0.000000    0.000000         0.000000       4.000000    0.000000  \n",
       "75%      0.000000    0.000000         0.000000       7.000000    1.000000  \n",
       "max      1.000000    1.000000         1.000000      10.000000    1.000000  "
      ]
     },
     "execution_count": 181,
     "metadata": {},
     "output_type": "execute_result"
    }
   ],
   "source": [
    "df.describe() #Statistical summary of DataFrame"
   ]
  },
  {
   "cell_type": "markdown",
   "id": "2d1e40aa",
   "metadata": {},
   "source": [
    "    count: number of examples counted for the selected function\n",
    "    mean: arithmetic mean for the selected function\n",
    "    std: standard deviation for the selected function\n",
    "    min: minimum value presented by the examples for the selected function\n",
    "    25%: first quartile calculated on the examples for the selected function\n",
    "    50%: second quartile calculated on the examples for the selected function\n",
    "    75%: third quartile calculated on examples for selected feature\n",
    "    max: maximum value presented by the examples for the selected function"
   ]
  },
  {
   "cell_type": "code",
   "execution_count": 182,
   "id": "e799c3bf",
   "metadata": {
    "scrolled": true
   },
   "outputs": [
    {
     "data": {
      "text/html": [
       "<div>\n",
       "<style scoped>\n",
       "    .dataframe tbody tr th:only-of-type {\n",
       "        vertical-align: middle;\n",
       "    }\n",
       "\n",
       "    .dataframe tbody tr th {\n",
       "        vertical-align: top;\n",
       "    }\n",
       "\n",
       "    .dataframe thead th {\n",
       "        text-align: right;\n",
       "    }\n",
       "</style>\n",
       "<table border=\"1\" class=\"dataframe\">\n",
       "  <thead>\n",
       "    <tr style=\"text-align: right;\">\n",
       "      <th></th>\n",
       "      <th>A1_Score</th>\n",
       "      <th>A2_Score</th>\n",
       "      <th>A3_Score</th>\n",
       "      <th>A4_Score</th>\n",
       "      <th>A5_Score</th>\n",
       "      <th>A6_Score</th>\n",
       "      <th>A7_Score</th>\n",
       "      <th>A8_Score</th>\n",
       "      <th>A9_Score</th>\n",
       "      <th>A10_Score</th>\n",
       "      <th>...</th>\n",
       "      <th>gender</th>\n",
       "      <th>ethnicity</th>\n",
       "      <th>jundice</th>\n",
       "      <th>austim</th>\n",
       "      <th>contry_of_res</th>\n",
       "      <th>used_app_before</th>\n",
       "      <th>resultnumeric</th>\n",
       "      <th>age_desc</th>\n",
       "      <th>relation</th>\n",
       "      <th>Class/ASD</th>\n",
       "    </tr>\n",
       "  </thead>\n",
       "  <tbody>\n",
       "    <tr>\n",
       "      <th>0</th>\n",
       "      <td>1</td>\n",
       "      <td>1</td>\n",
       "      <td>0</td>\n",
       "      <td>1</td>\n",
       "      <td>0</td>\n",
       "      <td>0</td>\n",
       "      <td>0</td>\n",
       "      <td>1</td>\n",
       "      <td>0</td>\n",
       "      <td>1</td>\n",
       "      <td>...</td>\n",
       "      <td>0</td>\n",
       "      <td>Latino</td>\n",
       "      <td>0</td>\n",
       "      <td>1</td>\n",
       "      <td>Brazil</td>\n",
       "      <td>0</td>\n",
       "      <td>5</td>\n",
       "      <td>'18 and more'</td>\n",
       "      <td>Self</td>\n",
       "      <td>0</td>\n",
       "    </tr>\n",
       "    <tr>\n",
       "      <th>1</th>\n",
       "      <td>1</td>\n",
       "      <td>1</td>\n",
       "      <td>0</td>\n",
       "      <td>1</td>\n",
       "      <td>1</td>\n",
       "      <td>0</td>\n",
       "      <td>1</td>\n",
       "      <td>1</td>\n",
       "      <td>1</td>\n",
       "      <td>1</td>\n",
       "      <td>...</td>\n",
       "      <td>0</td>\n",
       "      <td>Latino</td>\n",
       "      <td>1</td>\n",
       "      <td>1</td>\n",
       "      <td>Spain</td>\n",
       "      <td>0</td>\n",
       "      <td>8</td>\n",
       "      <td>'18 and more'</td>\n",
       "      <td>Parent</td>\n",
       "      <td>1</td>\n",
       "    </tr>\n",
       "    <tr>\n",
       "      <th>2</th>\n",
       "      <td>1</td>\n",
       "      <td>1</td>\n",
       "      <td>0</td>\n",
       "      <td>1</td>\n",
       "      <td>0</td>\n",
       "      <td>0</td>\n",
       "      <td>1</td>\n",
       "      <td>1</td>\n",
       "      <td>0</td>\n",
       "      <td>1</td>\n",
       "      <td>...</td>\n",
       "      <td>1</td>\n",
       "      <td>White-European</td>\n",
       "      <td>0</td>\n",
       "      <td>1</td>\n",
       "      <td>'United States'</td>\n",
       "      <td>0</td>\n",
       "      <td>6</td>\n",
       "      <td>'18 and more'</td>\n",
       "      <td>Self</td>\n",
       "      <td>0</td>\n",
       "    </tr>\n",
       "    <tr>\n",
       "      <th>3</th>\n",
       "      <td>1</td>\n",
       "      <td>0</td>\n",
       "      <td>0</td>\n",
       "      <td>0</td>\n",
       "      <td>0</td>\n",
       "      <td>0</td>\n",
       "      <td>0</td>\n",
       "      <td>1</td>\n",
       "      <td>0</td>\n",
       "      <td>0</td>\n",
       "      <td>...</td>\n",
       "      <td>1</td>\n",
       "      <td>Others</td>\n",
       "      <td>0</td>\n",
       "      <td>0</td>\n",
       "      <td>Egypt</td>\n",
       "      <td>0</td>\n",
       "      <td>2</td>\n",
       "      <td>'18 and more'</td>\n",
       "      <td>Self</td>\n",
       "      <td>0</td>\n",
       "    </tr>\n",
       "    <tr>\n",
       "      <th>4</th>\n",
       "      <td>1</td>\n",
       "      <td>1</td>\n",
       "      <td>1</td>\n",
       "      <td>1</td>\n",
       "      <td>1</td>\n",
       "      <td>0</td>\n",
       "      <td>1</td>\n",
       "      <td>1</td>\n",
       "      <td>1</td>\n",
       "      <td>1</td>\n",
       "      <td>...</td>\n",
       "      <td>0</td>\n",
       "      <td>Others</td>\n",
       "      <td>1</td>\n",
       "      <td>0</td>\n",
       "      <td>'United States'</td>\n",
       "      <td>0</td>\n",
       "      <td>9</td>\n",
       "      <td>'18 and more'</td>\n",
       "      <td>Self</td>\n",
       "      <td>1</td>\n",
       "    </tr>\n",
       "  </tbody>\n",
       "</table>\n",
       "<p>5 rows × 21 columns</p>\n",
       "</div>"
      ],
      "text/plain": [
       "   A1_Score  A2_Score  A3_Score  A4_Score  A5_Score  A6_Score  A7_Score  \\\n",
       "0         1         1         0         1         0         0         0   \n",
       "1         1         1         0         1         1         0         1   \n",
       "2         1         1         0         1         0         0         1   \n",
       "3         1         0         0         0         0         0         0   \n",
       "4         1         1         1         1         1         0         1   \n",
       "\n",
       "   A8_Score  A9_Score  A10_Score  ...  gender       ethnicity jundice  austim  \\\n",
       "0         1         0          1  ...       0          Latino       0       1   \n",
       "1         1         1          1  ...       0          Latino       1       1   \n",
       "2         1         0          1  ...       1  White-European       0       1   \n",
       "3         1         0          0  ...       1          Others       0       0   \n",
       "4         1         1          1  ...       0          Others       1       0   \n",
       "\n",
       "     contry_of_res used_app_before  resultnumeric       age_desc relation  \\\n",
       "0           Brazil               0              5  '18 and more'     Self   \n",
       "1            Spain               0              8  '18 and more'   Parent   \n",
       "2  'United States'               0              6  '18 and more'     Self   \n",
       "3            Egypt               0              2  '18 and more'     Self   \n",
       "4  'United States'               0              9  '18 and more'     Self   \n",
       "\n",
       "  Class/ASD  \n",
       "0         0  \n",
       "1         1  \n",
       "2         0  \n",
       "3         0  \n",
       "4         1  \n",
       "\n",
       "[5 rows x 21 columns]"
      ]
     },
     "execution_count": 182,
     "metadata": {},
     "output_type": "execute_result"
    }
   ],
   "source": [
    "df.head()"
   ]
  },
  {
   "cell_type": "markdown",
   "id": "aebc9b9c",
   "metadata": {},
   "source": [
    "## Visualization"
   ]
  },
  {
   "cell_type": "code",
   "execution_count": 183,
   "id": "5a676179",
   "metadata": {},
   "outputs": [
    {
     "name": "stdout",
     "output_type": "stream",
     "text": [
      "0    610\n",
      "1     91\n",
      "Name: austim, dtype: int64\n"
     ]
    },
    {
     "data": {
      "image/png": "[encoded data removed]",
      "text/plain": [
       "<Figure size 432x288 with 1 Axes>"
      ]
     },
     "metadata": {
      "needs_background": "light"
     },
     "output_type": "display_data"
    }
   ],
   "source": [
    "print(df['austim'].value_counts())\n",
    "sns.countplot(x=\"austim\", data=df)\n",
    "plt.title(\"Patients with(1) and not(0) family member diagnosed with autism\", fontsize = 15)\n",
    "plt.show()"
   ]
  },
  {
   "cell_type": "code",
   "execution_count": 184,
   "id": "f5ef1e7c",
   "metadata": {},
   "outputs": [
    {
     "name": "stdout",
     "output_type": "stream",
     "text": [
      "0    366\n",
      "1    335\n",
      "Name: gender, dtype: int64\n"
     ]
    },
    {
     "data": {
      "image/png": "[encoded data removed]",
      "text/plain": [
       "<Figure size 432x288 with 1 Axes>"
      ]
     },
     "metadata": {},
     "output_type": "display_data"
    }
   ],
   "source": [
    "print(df['gender'].value_counts())\n",
    "men = df.value_counts([\"gender\"])[0]\n",
    "women = df.value_counts([\"gender\"])[1]\n",
    "\n",
    "name = ['men', 'women']\n",
    "data = [men, women]\n",
    "plt.title(\"patients with autism by gender\", fontsize = 15)\n",
    "\n",
    "plt.pie(data, labels=name, startangle=90, shadow=True)\n",
    "plt.axis('equal')\n",
    "plt.show()"
   ]
  },
  {
   "cell_type": "code",
   "execution_count": 185,
   "id": "bdcc769b",
   "metadata": {},
   "outputs": [
    {
     "data": {
      "text/plain": [
       "<AxesSubplot:title={'center':'Patients with autism by countries'}, xlabel='contry_of_res', ylabel='count'>"
      ]
     },
     "execution_count": 185,
     "metadata": {},
     "output_type": "execute_result"
    },
    {
     "data": {
      "image/png": "[encoded data removed]",
      "text/plain": [
       "<Figure size 1152x720 with 1 Axes>"
      ]
     },
     "metadata": {
      "needs_background": "light"
     },
     "output_type": "display_data"
    }
   ],
   "source": [
    "plt.figure(figsize = (16, 10))\n",
    "plt.title(\"Patients with autism by countries\", fontsize = 15)\n",
    "plt.xlabel('contries')\n",
    "plt.ylabel('number of austim')\n",
    "order=df[\"contry_of_res\"].value_counts().nlargest(10).index\n",
    "# plt.bar(df.value_counts([\"contry_of_res\"])[1],df['austim'])\n",
    "sns.countplot(x=\"contry_of_res\", data=df, order=order)"
   ]
  },
  {
   "cell_type": "code",
   "execution_count": 186,
   "id": "ef94d12d",
   "metadata": {},
   "outputs": [
    {
     "data": {
      "image/png": "[encoded data removed]",
      "text/plain": [
       "<Figure size 1080x720 with 2 Axes>"
      ]
     },
     "metadata": {
      "needs_background": "light"
     },
     "output_type": "display_data"
    }
   ],
   "source": [
    "plt.figure(figsize = (15, 10))\n",
    "plt.title(\"Heatmap Correlations\", fontsize = 20)\n",
    "sns.heatmap(df.corr(), annot = True)\n",
    "plt.show()"
   ]
  },
  {
   "cell_type": "code",
   "execution_count": 187,
   "id": "4b51e438",
   "metadata": {},
   "outputs": [],
   "source": [
    "#plt.figure(figsize=(15,10))\n",
    "#sns.pairplot(df,hue='Class/ASD',palette='Set2')\n",
    "#plt.show()"
   ]
  },
  {
   "cell_type": "markdown",
   "id": "1e18a12f",
   "metadata": {},
   "source": [
    "## Pré-processing"
   ]
  },
  {
   "cell_type": "code",
   "execution_count": 188,
   "id": "454518ee",
   "metadata": {},
   "outputs": [],
   "source": [
    "# Dropp Unwanted columns\n",
    "df.drop(['age_desc'], axis = 1, inplace = True)\n",
    "#df.drop(['ethnicity'], axis = 1, inplace = True)\n",
    "#df.drop(['contry_of_res'], axis = 1, inplace = True)\n",
    "#df.drop(['relation'], axis = 1, inplace = True) "
   ]
  },
  {
   "cell_type": "code",
   "execution_count": 189,
   "id": "9f55d04c",
   "metadata": {},
   "outputs": [],
   "source": [
    "X = df.drop(\"Class/ASD\", axis = 1)    # select all other feature except \"Class/ASD\" for training\n",
    "y = df['Class/ASD']"
   ]
  },
  {
   "cell_type": "markdown",
   "id": "283796f3",
   "metadata": {},
   "source": [
    "Due to the presence of data expressed with different location, normalization must be performed by using the get_dummies() method."
   ]
  },
  {
   "cell_type": "code",
   "execution_count": 190,
   "id": "53850ecf",
   "metadata": {},
   "outputs": [],
   "source": [
    "X = pd.get_dummies(X)\n",
    "#y = pd.get_dummies(Y)"
   ]
  },
  {
   "cell_type": "code",
   "execution_count": 191,
   "id": "e2924144",
   "metadata": {},
   "outputs": [],
   "source": [
    "X_train, X_test, y_train, y_test = train_test_split(X, y, test_size = 0.8)"
   ]
  },
  {
   "cell_type": "code",
   "execution_count": 192,
   "id": "7271da3d",
   "metadata": {},
   "outputs": [
    {
     "name": "stdout",
     "output_type": "stream",
     "text": [
      "X = (701, 98)\n",
      "Y = (701,)\n"
     ]
    }
   ],
   "source": [
    "print(f\"X = {X.shape}\")\n",
    "print(f\"Y = {y.shape}\")"
   ]
  },
  {
   "cell_type": "code",
   "execution_count": 193,
   "id": "797a4f8c",
   "metadata": {},
   "outputs": [
    {
     "name": "stdout",
     "output_type": "stream",
     "text": [
      "X_train = (140, 98)\n",
      "Y_train = (140,)\n",
      "\n",
      "X_test = (561, 98)\n",
      "Y_test = (561,)\n"
     ]
    }
   ],
   "source": [
    "print(f\"X_train = {X_train.shape}\")\n",
    "print(f\"Y_train = {y_train.shape}\\n\")\n",
    "print(f\"X_test = {X_test.shape}\")\n",
    "print(f\"Y_test = {y_test.shape}\")"
   ]
  },
  {
   "cell_type": "markdown",
   "id": "7c990220",
   "metadata": {},
   "source": [
    "## Linear Regression"
   ]
  },
  {
   "cell_type": "code",
   "execution_count": 194,
   "id": "1670de78",
   "metadata": {},
   "outputs": [
    {
     "name": "stdout",
     "output_type": "stream",
     "text": [
      "Mean Absolute Error: 497940566.9349212\n",
      "Mean Squared Error: 3.680172102956247e+18\n",
      "Root Mean Squared Error: 1918377466.234486\n"
     ]
    }
   ],
   "source": [
    "regressor = LinearRegression()\n",
    "regressor.fit(X_train, y_train)\n",
    "pred_LR = regressor.predict(X_test)\n",
    "# print(classification_report(y_test,pred_LR))\n",
    "print('Mean Absolute Error:', metrics.mean_absolute_error(y_test, pred_LR))\n",
    "print('Mean Squared Error:', metrics.mean_squared_error(y_test, pred_LR))\n",
    "print('Root Mean Squared Error:', np.sqrt(metrics.mean_squared_error(y_test, pred_LR)))"
   ]
  },
  {
   "cell_type": "markdown",
   "id": "0e5bc414",
   "metadata": {},
   "source": [
    "## Support Vector Classification"
   ]
  },
  {
   "cell_type": "code",
   "execution_count": 195,
   "id": "a129c9f4",
   "metadata": {},
   "outputs": [
    {
     "name": "stdout",
     "output_type": "stream",
     "text": [
      "              precision    recall  f1-score   support\n",
      "\n",
      "           0       0.88      1.00      0.94       414\n",
      "           1       0.99      0.63      0.77       147\n",
      "\n",
      "    accuracy                           0.90       561\n",
      "   macro avg       0.94      0.81      0.85       561\n",
      "weighted avg       0.91      0.90      0.89       561\n",
      "\n",
      "Mean Absolute Error: 0.09982174688057041\n",
      "Mean Squared Error: 0.09982174688057041\n",
      "Root Mean Squared Error: 0.31594579737760464\n"
     ]
    }
   ],
   "source": [
    "svc =SVC(random_state=0)\n",
    "svc.fit(X_train,y_train)\n",
    "pred_svc = svc.predict(X_test)\n",
    "print(classification_report(y_test,pred_svc))\n",
    "print('Mean Absolute Error:', metrics.mean_absolute_error(y_test, pred_svc))\n",
    "print('Mean Squared Error:', metrics.mean_squared_error(y_test, pred_svc))\n",
    "print('Root Mean Squared Error:', np.sqrt(metrics.mean_squared_error(y_test, pred_svc)))"
   ]
  },
  {
   "cell_type": "code",
   "execution_count": 196,
   "id": "eb2529b5",
   "metadata": {},
   "outputs": [
    {
     "data": {
      "text/plain": [
       "array([[0.99],\n",
       "       [0.63],\n",
       "       [0.77]])"
      ]
     },
     "execution_count": 196,
     "metadata": {},
     "output_type": "execute_result"
    }
   ],
   "source": [
    "A = np.array([ round(metrics.precision_score(y_test, pred_svc),2),\n",
    "    round(metrics.recall_score(y_test, pred_svc),2),\n",
    "    round(metrics.f1_score(y_test, pred_svc),2)])\n",
    "A = np.reshape(A, (3, 1))\n",
    "A"
   ]
  },
  {
   "cell_type": "markdown",
   "id": "773579a0",
   "metadata": {},
   "source": [
    "## Random Forest Classifier"
   ]
  },
  {
   "cell_type": "code",
   "execution_count": 197,
   "id": "8ef1daf9",
   "metadata": {},
   "outputs": [
    {
     "name": "stdout",
     "output_type": "stream",
     "text": [
      "              precision    recall  f1-score   support\n",
      "\n",
      "           0       1.00      1.00      1.00       414\n",
      "           1       1.00      1.00      1.00       147\n",
      "\n",
      "    accuracy                           1.00       561\n",
      "   macro avg       1.00      1.00      1.00       561\n",
      "weighted avg       1.00      1.00      1.00       561\n",
      "\n",
      "Mean Absolute Error: 0.0\n",
      "Mean Squared Error: 0.0\n",
      "Root Mean Squared Error: 0.0\n"
     ]
    }
   ],
   "source": [
    "rfc = RandomForestClassifier(random_state=0) \n",
    "rfc.fit(X_train, y_train)\n",
    "pred_RFR = rfc.predict(X_test) \n",
    "print(classification_report(y_test,pred_RFR))\n",
    "print('Mean Absolute Error:', metrics.mean_absolute_error(y_test, pred_RFR))\n",
    "print('Mean Squared Error:', metrics.mean_squared_error(y_test, pred_RFR))\n",
    "print('Root Mean Squared Error:', np.sqrt(metrics.mean_squared_error(y_test, pred_RFR)))"
   ]
  },
  {
   "cell_type": "code",
   "execution_count": 198,
   "id": "53a939b1",
   "metadata": {},
   "outputs": [
    {
     "data": {
      "text/plain": [
       "array([[1.],\n",
       "       [1.],\n",
       "       [1.]])"
      ]
     },
     "execution_count": 198,
     "metadata": {},
     "output_type": "execute_result"
    }
   ],
   "source": [
    "B = np.array([ round(metrics.precision_score(y_test, pred_RFR),2),\n",
    "    round(metrics.recall_score(y_test, pred_RFR),2),\n",
    "    round(metrics.f1_score(y_test, pred_RFR),2)])\n",
    "B = np.reshape(B, (3, 1))\n",
    "B"
   ]
  },
  {
   "cell_type": "code",
   "execution_count": 199,
   "id": "127f56db",
   "metadata": {},
   "outputs": [
    {
     "data": {
      "image/png": "[encoded data removed]",
      "text/plain": [
       "<Figure size 432x288 with 1 Axes>"
      ]
     },
     "metadata": {
      "needs_background": "light"
     },
     "output_type": "display_data"
    }
   ],
   "source": [
    "svc_disp = RocCurveDisplay.from_estimator(svc, X_test, y_test)\n",
    "ax = plt.gca()\n",
    "rfc_disp = RocCurveDisplay.from_estimator(rfc, X_test, y_test, ax=ax, alpha=0.8)\n",
    "regressor_disp = ()\n",
    "plt.show()"
   ]
  },
  {
   "cell_type": "markdown",
   "id": "363c24c4",
   "metadata": {},
   "source": [
    "We will use RandomForestClassifier he has the best scores and is the most eccentric curve in the ROC curve."
   ]
  }
 ],
 "metadata": {
  "kernelspec": {
   "display_name": "Python 3",
   "language": "python",
   "name": "python3"
  },
  "language_info": {
   "codemirror_mode": {
    "name": "ipython",
    "version": 3
   },
   "file_extension": ".py",
   "mimetype": "text/x-python",
   "name": "python",
   "nbconvert_exporter": "python",
   "pygments_lexer": "ipython3",
   "version": "3.8.8"
  }
 },
 "nbformat": 4,
 "nbformat_minor": 5
}
